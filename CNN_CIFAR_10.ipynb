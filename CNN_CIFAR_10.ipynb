{
  "nbformat": 4,
  "nbformat_minor": 0,
  "metadata": {
    "colab": {
      "provenance": []
    },
    "kernelspec": {
      "name": "python3",
      "display_name": "Python 3"
    },
    "language_info": {
      "name": "python"
    },
    "gpuClass": "standard",
    "accelerator": "TPU"
  },
  "cells": [
    {
      "cell_type": "markdown",
      "source": [
        "# CIFAR-10 dataset on Convolutional Neural Network (CNN)\n",
        "\n",
        "In this notebook, we will classify the images in the [CIFAR-10 Dataset](https://www.cs.toronto.edu/~kriz/cifar.html) using a CNN.\n",
        "\n",
        "The structure of this notebook is as such:\n",
        "\n",
        "* Data pre-processing\n",
        "\n",
        "* Hyper-parameter tuning\n",
        "\n",
        "* Experiments\n",
        "\n"
      ],
      "metadata": {
        "id": "wNxIsxsIZFxu"
      }
    },
    {
      "cell_type": "code",
      "source": [
        "# importing libraries\n",
        "import tensorflow as tf\n",
        "from tensorflow.keras import datasets, layers, models\n",
        "from keras import callbacks\n",
        "import matplotlib.pyplot as plt\n",
        "import numpy as np\n",
        "import warnings\n",
        "from sklearn.model_selection import GridSearchCV\n",
        "!pip install scikeras\n",
        "from scikeras.wrappers import KerasClassifier\n",
        "\n",
        "# Set the seed value for experiment reproducibility.\n",
        "seed = 1234\n",
        "tf.random.set_seed(seed)\n",
        "np.random.seed(seed)\n",
        "\n",
        "warnings.simplefilter('ignore')"
      ],
      "metadata": {
        "colab": {
          "base_uri": "https://localhost:8080/"
        },
        "id": "igyU0whubwVy",
        "outputId": "affe7d7c-82d0-41db-a290-17a620766624"
      },
      "execution_count": null,
      "outputs": [
        {
          "output_type": "stream",
          "name": "stdout",
          "text": [
            "Looking in indexes: https://pypi.org/simple, https://us-python.pkg.dev/colab-wheels/public/simple/\n",
            "Collecting scikeras\n",
            "  Downloading scikeras-0.10.0-py3-none-any.whl (27 kB)\n",
            "Requirement already satisfied: scikit-learn>=1.0.0 in /usr/local/lib/python3.8/dist-packages (from scikeras) (1.2.1)\n",
            "Requirement already satisfied: packaging>=0.21 in /usr/local/lib/python3.8/dist-packages (from scikeras) (23.0)\n",
            "Requirement already satisfied: joblib>=1.1.1 in /usr/local/lib/python3.8/dist-packages (from scikit-learn>=1.0.0->scikeras) (1.2.0)\n",
            "Requirement already satisfied: threadpoolctl>=2.0.0 in /usr/local/lib/python3.8/dist-packages (from scikit-learn>=1.0.0->scikeras) (3.1.0)\n",
            "Requirement already satisfied: scipy>=1.3.2 in /usr/local/lib/python3.8/dist-packages (from scikit-learn>=1.0.0->scikeras) (1.10.1)\n",
            "Requirement already satisfied: numpy>=1.17.3 in /usr/local/lib/python3.8/dist-packages (from scikit-learn>=1.0.0->scikeras) (1.24.2)\n",
            "Installing collected packages: scikeras\n",
            "Successfully installed scikeras-0.10.0\n"
          ]
        }
      ]
    },
    {
      "cell_type": "markdown",
      "source": [
        "# Data pre-processing"
      ],
      "metadata": {
        "id": "A_f2_ixOQz-i"
      }
    },
    {
      "cell_type": "markdown",
      "source": [
        "First we load the dataset. The input of the CNN takes the images in their original dimensions, so no need to vectorize the input. We also don't need to one-hot encode the output. "
      ],
      "metadata": {
        "id": "lN93CluTb4RI"
      }
    },
    {
      "cell_type": "code",
      "source": [
        "(x_train, y_train), (x_test, y_test) = datasets.cifar10.load_data()"
      ],
      "metadata": {
        "colab": {
          "base_uri": "https://localhost:8080/"
        },
        "id": "ao-xA7KMZJvj",
        "outputId": "5958225e-8bdb-4527-cadb-7ab62d2ebdcb"
      },
      "execution_count": null,
      "outputs": [
        {
          "output_type": "stream",
          "name": "stdout",
          "text": [
            "Downloading data from https://www.cs.toronto.edu/~kriz/cifar-10-python.tar.gz\n",
            "170498071/170498071 [==============================] - 3s 0us/step\n"
          ]
        }
      ]
    },
    {
      "cell_type": "markdown",
      "source": [
        "We normalize the input."
      ],
      "metadata": {
        "id": "kJFW-ChecVcq"
      }
    },
    {
      "cell_type": "code",
      "source": [
        "x_train = (x_train - np.mean(x_train, axis=0)) / np.std(x_train, axis=0)\n",
        "x_test = (x_test - np.mean(x_test, axis=0)) / np.std(x_test, axis=0)"
      ],
      "metadata": {
        "id": "LHkaqEXBcUiG"
      },
      "execution_count": null,
      "outputs": []
    },
    {
      "cell_type": "markdown",
      "source": [
        "Let's take a look at the final shapes of the data."
      ],
      "metadata": {
        "id": "GyK5Us7BdoYH"
      }
    },
    {
      "cell_type": "code",
      "source": [
        "print(\"Shape of training data:\")\n",
        "print(x_train.shape)\n",
        "print(y_train.shape, \"\\n\")\n",
        "print(\"Shape of test data:\")\n",
        "print(x_test.shape)\n",
        "print(y_test.shape, \"\\n\")\n",
        "print(\"An example of a normalized instance:\")\n",
        "print(x_train[0])\n",
        "print(f'shape: {x_train[0].shape} \\n')\n",
        "print(\"An example of a label:\")\n",
        "print(y_train[0])"
      ],
      "metadata": {
        "colab": {
          "base_uri": "https://localhost:8080/"
        },
        "id": "l6G_z3andr3c",
        "outputId": "850a587d-a792-4b5e-db6e-043b75c99a08"
      },
      "execution_count": null,
      "outputs": [
        {
          "output_type": "stream",
          "name": "stdout",
          "text": [
            "Shape of training data:\n",
            "(50000, 32, 32, 3)\n",
            "(50000, 1) \n",
            "\n",
            "Shape of test data:\n",
            "(10000, 32, 32, 3)\n",
            "(10000, 1) \n",
            "\n",
            "An example of a normalized instance:\n",
            "[[[-0.97682401 -1.01575822 -0.86457067]\n",
            "  [-1.20290054 -1.24397271 -1.09116305]\n",
            "  [-1.12196343 -1.23121589 -1.12774851]\n",
            "  ...\n",
            "  [ 0.37226975 -0.05993601 -0.30716213]\n",
            "  [ 0.29723427 -0.1483418  -0.37591352]\n",
            "  [ 0.24357708 -0.15787621 -0.36051491]]\n",
            "\n",
            " [[-1.5698109  -1.59760997 -1.39387218]\n",
            "  [-1.79991445 -1.88484817 -1.64744766]\n",
            "  [-1.56880617 -1.79174252 -1.66185562]\n",
            "  ...\n",
            "  [-0.09855519 -0.66409268 -0.96227293]\n",
            "  [-0.14373515 -0.72217858 -1.01627722]\n",
            "  [-0.09886808 -0.65922515 -0.92377691]]\n",
            "\n",
            " [[-1.45482436 -1.54821175 -1.37961682]\n",
            "  [-1.58630684 -1.79258968 -1.64550579]\n",
            "  [-1.14034845 -1.52843453 -1.55931244]\n",
            "  ...\n",
            "  [-0.15907907 -0.71348254 -1.01747988]\n",
            "  [-0.12110123 -0.70263699 -1.00953845]\n",
            "  [-0.27373108 -0.85187597 -1.1084575 ]]\n",
            "\n",
            " ...\n",
            "\n",
            " [[ 1.26721816  0.71031234 -0.27672181]\n",
            "  [ 1.20986321  0.48109763 -1.21174062]\n",
            "  [ 1.17926178  0.63133016 -1.33066033]\n",
            "  ...\n",
            "  [ 0.5692194   0.16522833 -0.64120195]\n",
            "  [-1.08853283 -1.52656858 -1.63132608]\n",
            "  [-1.13802143 -1.48037731 -1.43335148]]\n",
            "\n",
            " [[ 0.81731343  0.2020927  -0.28247862]\n",
            "  [ 0.74568475 -0.02579946 -1.09099214]\n",
            "  [ 0.95866824  0.32500583 -1.27838234]\n",
            "  ...\n",
            "  [ 0.92284091  0.3877421  -0.28374307]\n",
            "  [-0.44914626 -1.02249731 -1.21624255]\n",
            "  [-0.66815038 -1.16534453 -1.21410898]]\n",
            "\n",
            " [[ 0.75352629  0.27025378  0.00832434]\n",
            "  [ 0.64412788  0.05402909 -0.30553046]\n",
            "  [ 0.81618648  0.26392272 -0.41477557]\n",
            "  ...\n",
            "  [ 1.39508816  0.94662017  0.40326438]\n",
            "  [ 0.38073985 -0.12319737 -0.45860013]\n",
            "  [-0.05604997 -0.54031962 -0.6414024 ]]]\n",
            "shape: (32, 32, 3) \n",
            "\n",
            "An example of a label:\n",
            "[6]\n"
          ]
        }
      ]
    },
    {
      "cell_type": "markdown",
      "source": [
        "# The CNN model\n",
        "\n",
        "Now let's build the CNN model. The model will have two\n",
        "convolutional and two fully connected layers. The two fully connected layers both have 256 units. The activations in all layers are ReLU. Optimizer is ADAM. The model uses early stopping once the test accuracy does not improve after 10 epochs. \n",
        "\n",
        "Reference: https://www.tensorflow.org/tutorials/images/cnn "
      ],
      "metadata": {
        "id": "uNHjp_Ume-KR"
      }
    },
    {
      "cell_type": "code",
      "source": [
        "class CNN:\n",
        "\n",
        "    def __init__(self, n_neurons=[32, 32], activation='relu', learning_rate=0.001, \n",
        "                 epochs=10, patience=10):\n",
        "        self.n_neurons = n_neurons\n",
        "        self.activation = activation\n",
        "        self.learning_rate = learning_rate\n",
        "        self.epochs = epochs\n",
        "        self.patience= patience\n",
        "\n",
        "    def make_model(self):\n",
        "        model = models.Sequential()\n",
        "        model.add(layers.Conv2D(self.n_neurons[0], (3, 3), \n",
        "                                activation=self.activation, input_shape=(32, 32, 3)))\n",
        "        model.add(layers.Conv2D(self.n_neurons[1], (3, 3), \n",
        "                                activation=self.activation))\n",
        "        model.add(layers.Flatten())\n",
        "        model.add(layers.Dense(256, activation=self.activation))\n",
        "        model.add(layers.Dense(256, activation=self.activation))\n",
        "        model.add(layers.Dense(10))\n",
        "\n",
        "        lr = self.learning_rate\n",
        "\n",
        "        model.compile(optimizer=tf.keras.optimizers.Adam(learning_rate=lr),\n",
        "                  loss=tf.keras.losses.SparseCategoricalCrossentropy(from_logits=True),\n",
        "                  metrics=['accuracy'])\n",
        "        \n",
        "        self.model = model\n",
        "\n",
        "    def summary(self):\n",
        "        self.model.summary()\n",
        "    \n",
        "    def train(self, x_train, y_train, x_test, y_test):\n",
        "\n",
        "        earlystopping = callbacks.EarlyStopping(monitor=\"val_accuracy\",\n",
        "                                        mode=\"auto\", patience=self.patience,\n",
        "                                        restore_best_weights=True)\n",
        "\n",
        "        self.history = self.model.fit(x_train, y_train, epochs=self.epochs, \n",
        "                                 validation_data=(x_test, y_test),\n",
        "                                 callbacks=[earlystopping])\n",
        "    \n",
        "    def evaluate(self, x_test, y_test):\n",
        "        plt.plot(self.history.history['accuracy'], label='training accuracy')\n",
        "        plt.plot(self.history.history['val_accuracy'], label = 'test accuracy')\n",
        "        plt.xlabel('Epoch')\n",
        "        plt.ylabel('Accuracy')\n",
        "        plt.ylim([0, 1])\n",
        "        plt.legend(loc='lower right')\n",
        "\n",
        "        test_loss, test_acc = self.model.evaluate(x_test,  y_test, verbose=2)"
      ],
      "metadata": {
        "id": "b_W6wUu4e9o7"
      },
      "execution_count": null,
      "outputs": []
    },
    {
      "cell_type": "markdown",
      "source": [
        "Let's test the CNN class with a smaller dataset with only 1000 instances."
      ],
      "metadata": {
        "id": "dPBgiSmGyp6Z"
      }
    },
    {
      "cell_type": "code",
      "source": [
        "x_train_small = x_train[:1000]\n",
        "y_train_small = y_train[:1000]\n",
        "x_test_small = x_test[:1000]\n",
        "y_test_small = y_test[:1000]"
      ],
      "metadata": {
        "id": "UmjgO3CXsjNO"
      },
      "execution_count": null,
      "outputs": []
    },
    {
      "cell_type": "code",
      "source": [
        "CNN = CNN(epochs=50)\n",
        "CNN.make_model()\n",
        "CNN.summary()"
      ],
      "metadata": {
        "colab": {
          "base_uri": "https://localhost:8080/"
        },
        "id": "EiQ9verRsKZV",
        "outputId": "40cb0928-e2d5-401e-fade-084f179e253a"
      },
      "execution_count": null,
      "outputs": [
        {
          "output_type": "stream",
          "name": "stdout",
          "text": [
            "Model: \"sequential_12\"\n",
            "_________________________________________________________________\n",
            " Layer (type)                Output Shape              Param #   \n",
            "=================================================================\n",
            " conv2d_24 (Conv2D)          (None, 30, 30, 32)        896       \n",
            "                                                                 \n",
            " conv2d_25 (Conv2D)          (None, 28, 28, 32)        9248      \n",
            "                                                                 \n",
            " flatten_12 (Flatten)        (None, 25088)             0         \n",
            "                                                                 \n",
            " dense_36 (Dense)            (None, 256)               6422784   \n",
            "                                                                 \n",
            " dense_37 (Dense)            (None, 256)               65792     \n",
            "                                                                 \n",
            " dense_38 (Dense)            (None, 10)                2570      \n",
            "                                                                 \n",
            "=================================================================\n",
            "Total params: 6,501,290\n",
            "Trainable params: 6,501,290\n",
            "Non-trainable params: 0\n",
            "_________________________________________________________________\n"
          ]
        }
      ]
    },
    {
      "cell_type": "code",
      "source": [
        "CNN.train(x_train_small, y_train_small, x_test_small, y_test_small)"
      ],
      "metadata": {
        "colab": {
          "base_uri": "https://localhost:8080/"
        },
        "id": "qeDG0ipus2as",
        "outputId": "18d96f65-d907-41c4-de09-14f864e46fbd"
      },
      "execution_count": null,
      "outputs": [
        {
          "output_type": "stream",
          "name": "stdout",
          "text": [
            "Epoch 1/50\n",
            "32/32 [==============================] - 10s 291ms/step - loss: 2.1797 - accuracy: 0.2420 - val_loss: 1.9408 - val_accuracy: 0.3100\n",
            "Epoch 2/50\n",
            "32/32 [==============================] - 6s 191ms/step - loss: 1.5958 - accuracy: 0.4300 - val_loss: 1.9298 - val_accuracy: 0.3070\n",
            "Epoch 3/50\n",
            "32/32 [==============================] - 8s 256ms/step - loss: 0.9950 - accuracy: 0.6620 - val_loss: 1.8926 - val_accuracy: 0.3740\n",
            "Epoch 4/50\n",
            "32/32 [==============================] - 6s 192ms/step - loss: 0.3448 - accuracy: 0.9070 - val_loss: 2.2914 - val_accuracy: 0.3670\n",
            "Epoch 5/50\n",
            "32/32 [==============================] - 7s 231ms/step - loss: 0.1032 - accuracy: 0.9810 - val_loss: 2.7298 - val_accuracy: 0.3910\n",
            "Epoch 6/50\n",
            "32/32 [==============================] - 7s 229ms/step - loss: 0.0362 - accuracy: 0.9930 - val_loss: 3.0305 - val_accuracy: 0.3770\n",
            "Epoch 7/50\n",
            "32/32 [==============================] - 8s 266ms/step - loss: 0.0082 - accuracy: 0.9990 - val_loss: 3.2521 - val_accuracy: 0.3850\n",
            "Epoch 8/50\n",
            "32/32 [==============================] - 7s 209ms/step - loss: 0.0021 - accuracy: 1.0000 - val_loss: 3.4179 - val_accuracy: 0.3970\n",
            "Epoch 9/50\n",
            "32/32 [==============================] - 8s 246ms/step - loss: 0.0011 - accuracy: 1.0000 - val_loss: 3.5241 - val_accuracy: 0.3920\n",
            "Epoch 10/50\n",
            "32/32 [==============================] - 7s 229ms/step - loss: 7.4332e-04 - accuracy: 1.0000 - val_loss: 3.6083 - val_accuracy: 0.3970\n",
            "Epoch 11/50\n",
            "32/32 [==============================] - 9s 275ms/step - loss: 5.8299e-04 - accuracy: 1.0000 - val_loss: 3.6879 - val_accuracy: 0.3960\n",
            "Epoch 12/50\n",
            "32/32 [==============================] - 6s 199ms/step - loss: 4.7634e-04 - accuracy: 1.0000 - val_loss: 3.7448 - val_accuracy: 0.3940\n",
            "Epoch 13/50\n",
            "32/32 [==============================] - 8s 263ms/step - loss: 4.0066e-04 - accuracy: 1.0000 - val_loss: 3.8031 - val_accuracy: 0.3970\n",
            "Epoch 14/50\n",
            "32/32 [==============================] - 7s 221ms/step - loss: 3.4682e-04 - accuracy: 1.0000 - val_loss: 3.8508 - val_accuracy: 0.3990\n",
            "Epoch 15/50\n",
            "32/32 [==============================] - 9s 298ms/step - loss: 3.0253e-04 - accuracy: 1.0000 - val_loss: 3.8958 - val_accuracy: 0.4000\n",
            "Epoch 16/50\n",
            "32/32 [==============================] - 6s 198ms/step - loss: 2.6612e-04 - accuracy: 1.0000 - val_loss: 3.9386 - val_accuracy: 0.4000\n",
            "Epoch 17/50\n",
            "32/32 [==============================] - 9s 287ms/step - loss: 2.3727e-04 - accuracy: 1.0000 - val_loss: 3.9781 - val_accuracy: 0.4010\n",
            "Epoch 18/50\n",
            "32/32 [==============================] - 7s 211ms/step - loss: 2.1054e-04 - accuracy: 1.0000 - val_loss: 4.0174 - val_accuracy: 0.4010\n",
            "Epoch 19/50\n",
            "32/32 [==============================] - 9s 278ms/step - loss: 1.8891e-04 - accuracy: 1.0000 - val_loss: 4.0480 - val_accuracy: 0.4000\n",
            "Epoch 20/50\n",
            "32/32 [==============================] - 6s 199ms/step - loss: 1.7126e-04 - accuracy: 1.0000 - val_loss: 4.0826 - val_accuracy: 0.4000\n",
            "Epoch 21/50\n",
            "32/32 [==============================] - 10s 314ms/step - loss: 1.5594e-04 - accuracy: 1.0000 - val_loss: 4.1144 - val_accuracy: 0.4000\n",
            "Epoch 22/50\n",
            "32/32 [==============================] - 7s 209ms/step - loss: 1.4226e-04 - accuracy: 1.0000 - val_loss: 4.1460 - val_accuracy: 0.3980\n",
            "Epoch 23/50\n",
            "32/32 [==============================] - 9s 282ms/step - loss: 1.3072e-04 - accuracy: 1.0000 - val_loss: 4.1740 - val_accuracy: 0.3970\n",
            "Epoch 24/50\n",
            "32/32 [==============================] - 7s 208ms/step - loss: 1.2064e-04 - accuracy: 1.0000 - val_loss: 4.2011 - val_accuracy: 0.3990\n",
            "Epoch 25/50\n",
            "32/32 [==============================] - 9s 283ms/step - loss: 1.1126e-04 - accuracy: 1.0000 - val_loss: 4.2289 - val_accuracy: 0.3950\n",
            "Epoch 26/50\n",
            "32/32 [==============================] - 7s 208ms/step - loss: 1.0296e-04 - accuracy: 1.0000 - val_loss: 4.2527 - val_accuracy: 0.3980\n",
            "Epoch 27/50\n",
            "32/32 [==============================] - 9s 286ms/step - loss: 9.5835e-05 - accuracy: 1.0000 - val_loss: 4.2788 - val_accuracy: 0.3990\n"
          ]
        }
      ]
    },
    {
      "cell_type": "code",
      "source": [
        "CNN.evaluate(x_test_small, y_test_small)"
      ],
      "metadata": {
        "colab": {
          "base_uri": "https://localhost:8080/",
          "height": 301
        },
        "id": "EtYZn1agvD7V",
        "outputId": "f88b359e-0524-4a15-e5d2-782905d1f699"
      },
      "execution_count": null,
      "outputs": [
        {
          "output_type": "stream",
          "name": "stdout",
          "text": [
            "32/32 - 1s - loss: 3.9781 - accuracy: 0.4010 - 908ms/epoch - 28ms/step\n"
          ]
        },
        {
          "output_type": "display_data",
          "data": {
            "text/plain": [
              "<Figure size 432x288 with 1 Axes>"
            ],
            "image/png": "[encoded data removed]"
          },
          "metadata": {
            "needs_background": "light"
          }
        }
      ]
    },
    {
      "cell_type": "markdown",
      "source": [
        "The test accuracy is expectedly low."
      ],
      "metadata": {
        "id": "YSkSE2whQ_0b"
      }
    },
    {
      "cell_type": "markdown",
      "source": [
        "# Hyper-parameter tuning\n",
        "\n",
        "Now let's tune the hyperparameters of the CNN model. The hyperparamenters to be tuned are\n",
        "\n",
        "* numbers of units in the two hidden layers\n",
        "* learning rate.\n",
        "\n",
        "We first define a Keras CNN model with the same architecture as the one defined in the CNN class above. Then we wrap the model with `KerasClassifier` from `scikeras.wrappers`  so we can use the grid search function in scikit-learn.\n",
        "\n",
        "Reference: https://machinelearningmastery.com/grid-search-hyperparameters-deep-learning-models-python-keras/ \n"
      ],
      "metadata": {
        "id": "pqA8wcx-zQ_0"
      }
    },
    {
      "cell_type": "code",
      "source": [
        "def create_model(first_layer_nodes, second_layer_nodes):\n",
        "    model = models.Sequential()\n",
        "    model.add(layers.Conv2D(first_layer_nodes, (3, 3), activation='relu', \n",
        "                            input_shape=(32, 32, 3)))\n",
        "    model.add(layers.Conv2D(second_layer_nodes, (3, 3), activation='relu'))\n",
        "    model.add(layers.Flatten())\n",
        "    model.add(layers.Dense(256, activation='relu'))\n",
        "    model.add(layers.Dense(256, activation='relu'))\n",
        "    model.add(layers.Dense(10))\n",
        "\n",
        "    model.compile(optimizer='adam',\n",
        "              loss=tf.keras.losses.SparseCategoricalCrossentropy(from_logits=True),\n",
        "              metrics=['accuracy'])\n",
        "    \n",
        "    return model\n",
        "\n",
        "# create model\n",
        "model = KerasClassifier(build_fn=create_model, verbose = False, \n",
        "                        first_layer_nodes=[64,32,16], \n",
        "                        second_layer_nodes=[64,32,16])  \n",
        "\n",
        "# define the grid search parameters\n",
        "learn_rate = [0.001, 0.01, 0.1]\n",
        "\n",
        "param_grid = dict(first_layer_nodes=[64,32,16], second_layer_nodes=[64,32,16], \n",
        "                  optimizer__learning_rate=learn_rate)\n",
        "\n",
        "# use 3-fold\n",
        "grid = GridSearchCV(estimator=model, param_grid=param_grid, n_jobs=-1, cv=3)\n",
        "\n",
        "# use a smaller dataset to tune because of hardware limitations\n",
        "grid_result = grid.fit(x_train[:10000], y_train[:10000])\n",
        "\n",
        "# summarize results\n",
        "print(\"Best: %f using %s\" % (grid_result.best_score_, grid_result.best_params_))\n",
        "means = grid_result.cv_results_['mean_test_score']\n",
        "stds = grid_result.cv_results_['std_test_score']\n",
        "params = grid_result.cv_results_['params']\n",
        "for mean, stdev, param in zip(means, stds, params):\n",
        "    print(\"%f (%f) with: %r\" % (mean, stdev, param))"
      ],
      "metadata": {
        "colab": {
          "base_uri": "https://localhost:8080/"
        },
        "id": "vwNdkZxsx__U",
        "outputId": "19570f56-3eed-4239-8c58-df91ea5fbdd5"
      },
      "execution_count": null,
      "outputs": [
        {
          "output_type": "stream",
          "name": "stdout",
          "text": [
            "Best: 0.462502 using {'first_layer_nodes': 32, 'optimizer__learning_rate': 0.1, 'second_layer_nodes': 64}\n",
            "0.437298 (0.017935) with: {'first_layer_nodes': 64, 'optimizer__learning_rate': 0.001, 'second_layer_nodes': 64}\n",
            "0.406998 (0.025577) with: {'first_layer_nodes': 64, 'optimizer__learning_rate': 0.001, 'second_layer_nodes': 32}\n",
            "0.421000 (0.002334) with: {'first_layer_nodes': 64, 'optimizer__learning_rate': 0.001, 'second_layer_nodes': 16}\n",
            "0.417798 (0.013555) with: {'first_layer_nodes': 64, 'optimizer__learning_rate': 0.01, 'second_layer_nodes': 64}\n",
            "0.392005 (0.035973) with: {'first_layer_nodes': 64, 'optimizer__learning_rate': 0.01, 'second_layer_nodes': 32}\n",
            "0.423598 (0.018024) with: {'first_layer_nodes': 64, 'optimizer__learning_rate': 0.01, 'second_layer_nodes': 16}\n",
            "0.416699 (0.009647) with: {'first_layer_nodes': 64, 'optimizer__learning_rate': 0.1, 'second_layer_nodes': 64}\n",
            "0.413901 (0.005504) with: {'first_layer_nodes': 64, 'optimizer__learning_rate': 0.1, 'second_layer_nodes': 32}\n",
            "0.439798 (0.012256) with: {'first_layer_nodes': 64, 'optimizer__learning_rate': 0.1, 'second_layer_nodes': 16}\n",
            "0.446199 (0.022872) with: {'first_layer_nodes': 32, 'optimizer__learning_rate': 0.001, 'second_layer_nodes': 64}\n",
            "0.442899 (0.024193) with: {'first_layer_nodes': 32, 'optimizer__learning_rate': 0.001, 'second_layer_nodes': 32}\n",
            "0.431698 (0.012121) with: {'first_layer_nodes': 32, 'optimizer__learning_rate': 0.001, 'second_layer_nodes': 16}\n",
            "0.458701 (0.025630) with: {'first_layer_nodes': 32, 'optimizer__learning_rate': 0.01, 'second_layer_nodes': 64}\n",
            "0.448600 (0.007525) with: {'first_layer_nodes': 32, 'optimizer__learning_rate': 0.01, 'second_layer_nodes': 32}\n",
            "0.436299 (0.010513) with: {'first_layer_nodes': 32, 'optimizer__learning_rate': 0.01, 'second_layer_nodes': 16}\n",
            "0.462502 (0.023920) with: {'first_layer_nodes': 32, 'optimizer__learning_rate': 0.1, 'second_layer_nodes': 64}\n",
            "0.439900 (0.021202) with: {'first_layer_nodes': 32, 'optimizer__learning_rate': 0.1, 'second_layer_nodes': 32}\n",
            "0.426702 (0.016876) with: {'first_layer_nodes': 32, 'optimizer__learning_rate': 0.1, 'second_layer_nodes': 16}\n",
            "0.458700 (0.008471) with: {'first_layer_nodes': 16, 'optimizer__learning_rate': 0.001, 'second_layer_nodes': 64}\n",
            "0.444000 (0.008293) with: {'first_layer_nodes': 16, 'optimizer__learning_rate': 0.001, 'second_layer_nodes': 32}\n",
            "0.431899 (0.016295) with: {'first_layer_nodes': 16, 'optimizer__learning_rate': 0.001, 'second_layer_nodes': 16}\n",
            "0.448302 (0.016461) with: {'first_layer_nodes': 16, 'optimizer__learning_rate': 0.01, 'second_layer_nodes': 64}\n",
            "0.445102 (0.019285) with: {'first_layer_nodes': 16, 'optimizer__learning_rate': 0.01, 'second_layer_nodes': 32}\n",
            "0.447200 (0.003926) with: {'first_layer_nodes': 16, 'optimizer__learning_rate': 0.01, 'second_layer_nodes': 16}\n",
            "0.458302 (0.013743) with: {'first_layer_nodes': 16, 'optimizer__learning_rate': 0.1, 'second_layer_nodes': 64}\n",
            "0.439601 (0.004192) with: {'first_layer_nodes': 16, 'optimizer__learning_rate': 0.1, 'second_layer_nodes': 32}\n",
            "0.434600 (0.015925) with: {'first_layer_nodes': 16, 'optimizer__learning_rate': 0.1, 'second_layer_nodes': 16}\n"
          ]
        }
      ]
    },
    {
      "cell_type": "markdown",
      "source": [
        "# Experiments\n",
        "\n",
        "Based on the result of the hyperparamter tuning, let's test on models with 32 units in the first convolutional layer and 64 units in the second, and let's vary the learining rates."
      ],
      "metadata": {
        "id": "uD1znjxf1wDM"
      }
    },
    {
      "cell_type": "markdown",
      "source": [
        "## Experiment 1: (32, 64, 0.001)\n",
        "\n",
        "First, let's try the default learning rate of ADAM in Keras, 0.001."
      ],
      "metadata": {
        "id": "yyxeIXz9RPEI"
      }
    },
    {
      "cell_type": "code",
      "source": [
        "model1 = CNN(n_neurons=[32, 64], learning_rate=0.001, epochs=200)\n",
        "model1.make_model()\n",
        "model1.summary()"
      ],
      "metadata": {
        "colab": {
          "base_uri": "https://localhost:8080/"
        },
        "id": "MbwUJcY42H05",
        "outputId": "b5b0a481-5c50-4564-b42a-03c76bfaa5bd"
      },
      "execution_count": null,
      "outputs": [
        {
          "output_type": "stream",
          "name": "stdout",
          "text": [
            "Model: \"sequential_2\"\n",
            "_________________________________________________________________\n",
            " Layer (type)                Output Shape              Param #   \n",
            "=================================================================\n",
            " conv2d_4 (Conv2D)           (None, 30, 30, 32)        896       \n",
            "                                                                 \n",
            " conv2d_5 (Conv2D)           (None, 28, 28, 64)        18496     \n",
            "                                                                 \n",
            " flatten_2 (Flatten)         (None, 50176)             0         \n",
            "                                                                 \n",
            " dense_6 (Dense)             (None, 256)               12845312  \n",
            "                                                                 \n",
            " dense_7 (Dense)             (None, 256)               65792     \n",
            "                                                                 \n",
            " dense_8 (Dense)             (None, 10)                2570      \n",
            "                                                                 \n",
            "=================================================================\n",
            "Total params: 12,933,066\n",
            "Trainable params: 12,933,066\n",
            "Non-trainable params: 0\n",
            "_________________________________________________________________\n"
          ]
        }
      ]
    },
    {
      "cell_type": "code",
      "source": [
        "model1.train(x_train, y_train, x_test, y_test)"
      ],
      "metadata": {
        "colab": {
          "base_uri": "https://localhost:8080/"
        },
        "id": "fVeS1SDk2NnP",
        "outputId": "7d135cf7-5ece-4c8b-d033-b614d3a5a6cd"
      },
      "execution_count": null,
      "outputs": [
        {
          "output_type": "stream",
          "name": "stdout",
          "text": [
            "Epoch 1/200\n",
            "1563/1563 [==============================] - 619s 395ms/step - loss: 1.2608 - accuracy: 0.5526 - val_loss: 1.0305 - val_accuracy: 0.6425\n",
            "Epoch 2/200\n",
            "1563/1563 [==============================] - 591s 378ms/step - loss: 0.7745 - accuracy: 0.7295 - val_loss: 1.0225 - val_accuracy: 0.6556\n",
            "Epoch 3/200\n",
            "1563/1563 [==============================] - 604s 386ms/step - loss: 0.4101 - accuracy: 0.8585 - val_loss: 1.1723 - val_accuracy: 0.6536\n",
            "Epoch 4/200\n",
            "1563/1563 [==============================] - 613s 392ms/step - loss: 0.1873 - accuracy: 0.9356 - val_loss: 1.7192 - val_accuracy: 0.6404\n",
            "Epoch 5/200\n",
            "1563/1563 [==============================] - 612s 391ms/step - loss: 0.1145 - accuracy: 0.9629 - val_loss: 2.0744 - val_accuracy: 0.6267\n",
            "Epoch 6/200\n",
            "1563/1563 [==============================] - 595s 381ms/step - loss: 0.0874 - accuracy: 0.9722 - val_loss: 2.0701 - val_accuracy: 0.6491\n",
            "Epoch 7/200\n",
            "1563/1563 [==============================] - 601s 384ms/step - loss: 0.0790 - accuracy: 0.9744 - val_loss: 2.3434 - val_accuracy: 0.6343\n",
            "Epoch 8/200\n",
            "1563/1563 [==============================] - 602s 385ms/step - loss: 0.0694 - accuracy: 0.9783 - val_loss: 2.2608 - val_accuracy: 0.6300\n",
            "Epoch 9/200\n",
            "1563/1563 [==============================] - 601s 385ms/step - loss: 0.0554 - accuracy: 0.9825 - val_loss: 2.5952 - val_accuracy: 0.6352\n",
            "Epoch 10/200\n",
            "1563/1563 [==============================] - 606s 388ms/step - loss: 0.0558 - accuracy: 0.9825 - val_loss: 2.6459 - val_accuracy: 0.6394\n",
            "Epoch 11/200\n",
            "1563/1563 [==============================] - 606s 388ms/step - loss: 0.0545 - accuracy: 0.9833 - val_loss: 2.7939 - val_accuracy: 0.6301\n",
            "Epoch 12/200\n",
            "1563/1563 [==============================] - 605s 387ms/step - loss: 0.0537 - accuracy: 0.9840 - val_loss: 2.7284 - val_accuracy: 0.6337\n"
          ]
        }
      ]
    },
    {
      "cell_type": "code",
      "source": [
        "model1.evaluate(x_test, y_test)"
      ],
      "metadata": {
        "colab": {
          "base_uri": "https://localhost:8080/",
          "height": 301
        },
        "id": "76Zl8tJg2Vui",
        "outputId": "a00745c1-6f87-4f92-f861-ed7bfbce0045"
      },
      "execution_count": null,
      "outputs": [
        {
          "output_type": "stream",
          "name": "stdout",
          "text": [
            "313/313 - 18s - loss: 1.0225 - accuracy: 0.6556 - 18s/epoch - 57ms/step\n"
          ]
        },
        {
          "output_type": "display_data",
          "data": {
            "text/plain": [
              "<Figure size 432x288 with 1 Axes>"
            ],
            "image/png": "[encoded data removed]"
          },
          "metadata": {
            "needs_background": "light"
          }
        }
      ]
    },
    {
      "cell_type": "markdown",
      "source": [
        "## Experiment 2: (32, 64, 0.1)\n",
        "\n",
        "Let's try learning rate 0.1, the optimal learning rate based on the hyperparameter tuning."
      ],
      "metadata": {
        "id": "NIPFhWS4T_c7"
      }
    },
    {
      "cell_type": "code",
      "source": [
        "model2 = CNN(n_neurons=[32, 64], learning_rate=0.1, epochs=200, patience=2)\n",
        "model2.make_model()\n",
        "model2.summary()"
      ],
      "metadata": {
        "colab": {
          "base_uri": "https://localhost:8080/"
        },
        "id": "KnzC97ovUHHV",
        "outputId": "57dc9b55-1797-4c47-e6eb-fc8c7be6cc18"
      },
      "execution_count": null,
      "outputs": [
        {
          "output_type": "stream",
          "name": "stdout",
          "text": [
            "Model: \"sequential_6\"\n",
            "_________________________________________________________________\n",
            " Layer (type)                Output Shape              Param #   \n",
            "=================================================================\n",
            " conv2d_12 (Conv2D)          (None, 30, 30, 32)        896       \n",
            "                                                                 \n",
            " conv2d_13 (Conv2D)          (None, 28, 28, 64)        18496     \n",
            "                                                                 \n",
            " flatten_6 (Flatten)         (None, 50176)             0         \n",
            "                                                                 \n",
            " dense_18 (Dense)            (None, 256)               12845312  \n",
            "                                                                 \n",
            " dense_19 (Dense)            (None, 256)               65792     \n",
            "                                                                 \n",
            " dense_20 (Dense)            (None, 10)                2570      \n",
            "                                                                 \n",
            "=================================================================\n",
            "Total params: 12,933,066\n",
            "Trainable params: 12,933,066\n",
            "Non-trainable params: 0\n",
            "_________________________________________________________________\n"
          ]
        }
      ]
    },
    {
      "cell_type": "code",
      "source": [
        "model2.train(x_train, y_train, x_test, y_test)"
      ],
      "metadata": {
        "colab": {
          "base_uri": "https://localhost:8080/"
        },
        "id": "YOICToJZURXp",
        "outputId": "3aff3f88-9ac4-4531-9580-dccbb98e4a38"
      },
      "execution_count": null,
      "outputs": [
        {
          "output_type": "stream",
          "name": "stdout",
          "text": [
            "Epoch 1/200\n",
            "1563/1563 [==============================] - 645s 411ms/step - loss: 486.4457 - accuracy: 0.1010 - val_loss: 2.3156 - val_accuracy: 0.1000\n",
            "Epoch 2/200\n",
            "1563/1563 [==============================] - 611s 391ms/step - loss: 2.3164 - accuracy: 0.0993 - val_loss: 2.3106 - val_accuracy: 0.1000\n",
            "Epoch 3/200\n",
            "1563/1563 [==============================] - 639s 409ms/step - loss: 2.3162 - accuracy: 0.0983 - val_loss: 2.3058 - val_accuracy: 0.1000\n"
          ]
        }
      ]
    },
    {
      "cell_type": "markdown",
      "source": [
        "It is clear that the weights did not converge. The learning rate 0.1, although tested to be the best on a smaller dataset, is too large for a bigger dataset. \n",
        "\n",
        "## Experiment 3: (32, 64, 0.01)\n",
        "\n",
        "Below, we test the learning rate 0.01."
      ],
      "metadata": {
        "id": "aQ9x35Tg0SPS"
      }
    },
    {
      "cell_type": "code",
      "source": [
        "model3 = CNN(n_neurons=[32, 64], learning_rate=0.01, epochs=200, patience=2)\n",
        "model3.make_model()\n",
        "model3.summary()"
      ],
      "metadata": {
        "colab": {
          "base_uri": "https://localhost:8080/"
        },
        "outputId": "c6a30fc8-8df1-4659-88ed-a93c040fc9d0",
        "id": "8e71ymbh0o_t"
      },
      "execution_count": null,
      "outputs": [
        {
          "output_type": "stream",
          "name": "stdout",
          "text": [
            "Model: \"sequential_7\"\n",
            "_________________________________________________________________\n",
            " Layer (type)                Output Shape              Param #   \n",
            "=================================================================\n",
            " conv2d_14 (Conv2D)          (None, 30, 30, 32)        896       \n",
            "                                                                 \n",
            " conv2d_15 (Conv2D)          (None, 28, 28, 64)        18496     \n",
            "                                                                 \n",
            " flatten_7 (Flatten)         (None, 50176)             0         \n",
            "                                                                 \n",
            " dense_21 (Dense)            (None, 256)               12845312  \n",
            "                                                                 \n",
            " dense_22 (Dense)            (None, 256)               65792     \n",
            "                                                                 \n",
            " dense_23 (Dense)            (None, 10)                2570      \n",
            "                                                                 \n",
            "=================================================================\n",
            "Total params: 12,933,066\n",
            "Trainable params: 12,933,066\n",
            "Non-trainable params: 0\n",
            "_________________________________________________________________\n"
          ]
        }
      ]
    },
    {
      "cell_type": "code",
      "source": [
        "model3.train(x_train, y_train, x_test, y_test)"
      ],
      "metadata": {
        "colab": {
          "base_uri": "https://localhost:8080/"
        },
        "id": "5rnloRkJ0uX3",
        "outputId": "e3534c08-e430-4176-9c6c-77b0d24df522"
      },
      "execution_count": null,
      "outputs": [
        {
          "output_type": "stream",
          "name": "stdout",
          "text": [
            "Epoch 1/200\n",
            "1563/1563 [==============================] - 679s 433ms/step - loss: 2.4299 - accuracy: 0.0992 - val_loss: 2.3042 - val_accuracy: 0.1000\n",
            "Epoch 2/200\n",
            "1563/1563 [==============================] - 610s 391ms/step - loss: 2.3042 - accuracy: 0.0968 - val_loss: 2.3037 - val_accuracy: 0.1000\n",
            "Epoch 3/200\n",
            "1563/1563 [==============================] - 644s 412ms/step - loss: 2.3042 - accuracy: 0.0959 - val_loss: 2.3038 - val_accuracy: 0.1000\n"
          ]
        }
      ]
    },
    {
      "cell_type": "markdown",
      "source": [
        "The weights were not converging. \n",
        "\n",
        "In conclusion, the best performance of our CNN model is with 32 units in the first convolutional layer and 64 units in the second. The learning rate used is 0.001. The model has a loss of 1.0225 and achieves accuracy 0.6556.\n",
        "\n",
        "## Extra experiments\n",
        "\n",
        "Below are some extra experiments we did: CNN with 16 units in the first layer and 32 units in the second. The learning rates tested are 0.001, 0.01, and 0.1. The best performance has an accuracy of 0.6475. "
      ],
      "metadata": {
        "id": "zKlDiFp57UkA"
      }
    },
    {
      "cell_type": "code",
      "source": [
        "model = CNN(n_neurons=[16, 32], learning_rate=0.001, epochs=200)\n",
        "model.make_model()\n",
        "model.summary()"
      ],
      "metadata": {
        "colab": {
          "base_uri": "https://localhost:8080/"
        },
        "id": "dU6O0F-lCXio",
        "outputId": "b470caf7-957f-4696-c6be-1887ede79795"
      },
      "execution_count": null,
      "outputs": [
        {
          "output_type": "stream",
          "name": "stdout",
          "text": [
            "Model: \"sequential_19\"\n",
            "_________________________________________________________________\n",
            " Layer (type)                Output Shape              Param #   \n",
            "=================================================================\n",
            " conv2d_38 (Conv2D)          (None, 30, 30, 16)        448       \n",
            "                                                                 \n",
            " conv2d_39 (Conv2D)          (None, 28, 28, 32)        4640      \n",
            "                                                                 \n",
            " flatten_19 (Flatten)        (None, 25088)             0         \n",
            "                                                                 \n",
            " dense_57 (Dense)            (None, 256)               6422784   \n",
            "                                                                 \n",
            " dense_58 (Dense)            (None, 256)               65792     \n",
            "                                                                 \n",
            " dense_59 (Dense)            (None, 10)                2570      \n",
            "                                                                 \n",
            "=================================================================\n",
            "Total params: 6,496,234\n",
            "Trainable params: 6,496,234\n",
            "Non-trainable params: 0\n",
            "_________________________________________________________________\n"
          ]
        }
      ]
    },
    {
      "cell_type": "code",
      "source": [
        "model.train(x_train, y_train, x_test, y_test)"
      ],
      "metadata": {
        "colab": {
          "base_uri": "https://localhost:8080/"
        },
        "id": "HAKRlXuUC0t8",
        "outputId": "f1a170cf-43a2-4374-8d1b-f5485c4341aa"
      },
      "execution_count": null,
      "outputs": [
        {
          "output_type": "stream",
          "name": "stdout",
          "text": [
            "Epoch 1/200\n",
            "1563/1563 [==============================] - 270s 172ms/step - loss: 1.3099 - accuracy: 0.5334 - val_loss: 1.0584 - val_accuracy: 0.6262\n",
            "Epoch 2/200\n",
            "1563/1563 [==============================] - 244s 156ms/step - loss: 0.8283 - accuracy: 0.7098 - val_loss: 1.0647 - val_accuracy: 0.6439\n",
            "Epoch 3/200\n",
            "1563/1563 [==============================] - 262s 168ms/step - loss: 0.4851 - accuracy: 0.8314 - val_loss: 1.1782 - val_accuracy: 0.6475\n",
            "Epoch 4/200\n",
            "1563/1563 [==============================] - 243s 155ms/step - loss: 0.2310 - accuracy: 0.9217 - val_loss: 1.5339 - val_accuracy: 0.6314\n",
            "Epoch 5/200\n",
            "1563/1563 [==============================] - 243s 156ms/step - loss: 0.1424 - accuracy: 0.9528 - val_loss: 1.7716 - val_accuracy: 0.6288\n",
            "Epoch 6/200\n",
            "1563/1563 [==============================] - 238s 153ms/step - loss: 0.1020 - accuracy: 0.9658 - val_loss: 2.0902 - val_accuracy: 0.6166\n",
            "Epoch 7/200\n",
            "1563/1563 [==============================] - 243s 156ms/step - loss: 0.0850 - accuracy: 0.9719 - val_loss: 2.3011 - val_accuracy: 0.6323\n",
            "Epoch 8/200\n",
            "1563/1563 [==============================] - 243s 155ms/step - loss: 0.0836 - accuracy: 0.9726 - val_loss: 2.3497 - val_accuracy: 0.6300\n",
            "Epoch 9/200\n",
            "1563/1563 [==============================] - 239s 153ms/step - loss: 0.0723 - accuracy: 0.9764 - val_loss: 2.4478 - val_accuracy: 0.6194\n",
            "Epoch 10/200\n",
            "1563/1563 [==============================] - 242s 155ms/step - loss: 0.0615 - accuracy: 0.9804 - val_loss: 2.5803 - val_accuracy: 0.6264\n",
            "Epoch 11/200\n",
            "1563/1563 [==============================] - 241s 154ms/step - loss: 0.0574 - accuracy: 0.9810 - val_loss: 3.0517 - val_accuracy: 0.6115\n",
            "Epoch 12/200\n",
            "1563/1563 [==============================] - 244s 156ms/step - loss: 0.0603 - accuracy: 0.9810 - val_loss: 2.8580 - val_accuracy: 0.6157\n",
            "Epoch 13/200\n",
            "1563/1563 [==============================] - 240s 153ms/step - loss: 0.0551 - accuracy: 0.9824 - val_loss: 2.9264 - val_accuracy: 0.6188\n"
          ]
        }
      ]
    },
    {
      "cell_type": "code",
      "source": [
        "model.evaluate(x_test, y_test)"
      ],
      "metadata": {
        "colab": {
          "base_uri": "https://localhost:8080/",
          "height": 301
        },
        "id": "vIaGXTXiDAlg",
        "outputId": "c602bf28-7d5d-46f1-a7c4-39f6f9560d5f"
      },
      "execution_count": null,
      "outputs": [
        {
          "output_type": "stream",
          "name": "stdout",
          "text": [
            "313/313 - 10s - loss: 1.1782 - accuracy: 0.6475 - 10s/epoch - 32ms/step\n"
          ]
        },
        {
          "output_type": "display_data",
          "data": {
            "text/plain": [
              "<Figure size 432x288 with 1 Axes>"
            ],
            "image/png": "[encoded data removed]"
          },
          "metadata": {
            "needs_background": "light"
          }
        }
      ]
    },
    {
      "cell_type": "code",
      "source": [
        "model = CNN(n_neurons=[16, 32], learning_rate=0.1, epochs=200)\n",
        "model.make_model()\n",
        "model.summary()"
      ],
      "metadata": {
        "colab": {
          "base_uri": "https://localhost:8080/"
        },
        "id": "w9ec0tYrdRIR",
        "outputId": "563baaa6-f2bb-4c9d-ed08-14b0f13eb0de"
      },
      "execution_count": null,
      "outputs": [
        {
          "output_type": "stream",
          "name": "stdout",
          "text": [
            "Model: \"sequential_20\"\n",
            "_________________________________________________________________\n",
            " Layer (type)                Output Shape              Param #   \n",
            "=================================================================\n",
            " conv2d_40 (Conv2D)          (None, 30, 30, 16)        448       \n",
            "                                                                 \n",
            " conv2d_41 (Conv2D)          (None, 28, 28, 32)        4640      \n",
            "                                                                 \n",
            " flatten_20 (Flatten)        (None, 25088)             0         \n",
            "                                                                 \n",
            " dense_60 (Dense)            (None, 256)               6422784   \n",
            "                                                                 \n",
            " dense_61 (Dense)            (None, 256)               65792     \n",
            "                                                                 \n",
            " dense_62 (Dense)            (None, 10)                2570      \n",
            "                                                                 \n",
            "=================================================================\n",
            "Total params: 6,496,234\n",
            "Trainable params: 6,496,234\n",
            "Non-trainable params: 0\n",
            "_________________________________________________________________\n"
          ]
        }
      ]
    },
    {
      "cell_type": "code",
      "source": [
        "model2.train(x_train, y_train, x_test, y_test)"
      ],
      "metadata": {
        "colab": {
          "base_uri": "https://localhost:8080/"
        },
        "id": "JTAWYl5ydYDp",
        "outputId": "f0d30aa4-e6e2-47a6-cbf0-d2d9ea0e9508"
      },
      "execution_count": null,
      "outputs": [
        {
          "output_type": "stream",
          "name": "stdout",
          "text": [
            "Epoch 1/200\n",
            "1563/1563 [==============================] - 243s 154ms/step - loss: 1.3173 - accuracy: 0.5293 - val_loss: 1.0903 - val_accuracy: 0.6167\n",
            "Epoch 2/200\n",
            "1563/1563 [==============================] - 241s 154ms/step - loss: 0.8443 - accuracy: 0.7062 - val_loss: 1.0354 - val_accuracy: 0.6458\n",
            "Epoch 3/200\n",
            "1563/1563 [==============================] - 242s 155ms/step - loss: 0.5078 - accuracy: 0.8231 - val_loss: 1.1698 - val_accuracy: 0.6460\n",
            "Epoch 4/200\n",
            "1563/1563 [==============================] - 241s 154ms/step - loss: 0.2389 - accuracy: 0.9175 - val_loss: 1.5610 - val_accuracy: 0.6278\n",
            "Epoch 5/200\n",
            "1563/1563 [==============================] - 245s 157ms/step - loss: 0.1421 - accuracy: 0.9518 - val_loss: 1.9570 - val_accuracy: 0.6292\n",
            "Epoch 6/200\n",
            "1563/1563 [==============================] - 251s 161ms/step - loss: 0.1010 - accuracy: 0.9661 - val_loss: 2.1029 - val_accuracy: 0.6213\n",
            "Epoch 7/200\n",
            "1563/1563 [==============================] - 250s 160ms/step - loss: 0.0905 - accuracy: 0.9698 - val_loss: 2.3215 - val_accuracy: 0.6239\n",
            "Epoch 8/200\n",
            "1563/1563 [==============================] - 257s 165ms/step - loss: 0.0781 - accuracy: 0.9747 - val_loss: 2.4838 - val_accuracy: 0.6247\n",
            "Epoch 9/200\n",
            "1563/1563 [==============================] - 254s 163ms/step - loss: 0.0711 - accuracy: 0.9772 - val_loss: 2.6148 - val_accuracy: 0.6194\n",
            "Epoch 10/200\n",
            "1563/1563 [==============================] - 244s 156ms/step - loss: 0.0657 - accuracy: 0.9786 - val_loss: 2.7595 - val_accuracy: 0.6137\n",
            "Epoch 11/200\n",
            "1563/1563 [==============================] - 243s 156ms/step - loss: 0.0576 - accuracy: 0.9816 - val_loss: 3.0072 - val_accuracy: 0.6160\n",
            "Epoch 12/200\n",
            "1563/1563 [==============================] - 245s 157ms/step - loss: 0.0573 - accuracy: 0.9819 - val_loss: 2.8793 - val_accuracy: 0.6169\n",
            "Epoch 13/200\n",
            "1563/1563 [==============================] - 243s 156ms/step - loss: 0.0527 - accuracy: 0.9835 - val_loss: 2.8924 - val_accuracy: 0.6165\n"
          ]
        }
      ]
    },
    {
      "cell_type": "code",
      "source": [
        "model2.evaluate(x_test, y_test)"
      ],
      "metadata": {
        "colab": {
          "base_uri": "https://localhost:8080/",
          "height": 301
        },
        "id": "k1OT-qdedbsW",
        "outputId": "d0d626a6-528d-4a3a-91f6-3187a657055e"
      },
      "execution_count": null,
      "outputs": [
        {
          "output_type": "stream",
          "name": "stdout",
          "text": [
            "313/313 - 10s - loss: 1.1698 - accuracy: 0.6460 - 10s/epoch - 32ms/step\n"
          ]
        },
        {
          "output_type": "display_data",
          "data": {
            "text/plain": [
              "<Figure size 432x288 with 1 Axes>"
            ],
            "image/png": "[encoded data removed]"
          },
          "metadata": {
            "needs_background": "light"
          }
        }
      ]
    },
    {
      "cell_type": "code",
      "source": [
        "model3 = CNN(n_neurons=[16, 32], learning_rate=0.01, epochs=200)\n",
        "model3.make_model()\n",
        "model3.summary()"
      ],
      "metadata": {
        "colab": {
          "base_uri": "https://localhost:8080/"
        },
        "id": "DziTArhue895",
        "outputId": "503106ed-0dea-4bb1-93d2-833d193713aa"
      },
      "execution_count": null,
      "outputs": [
        {
          "output_type": "stream",
          "name": "stdout",
          "text": [
            "Model: \"sequential_21\"\n",
            "_________________________________________________________________\n",
            " Layer (type)                Output Shape              Param #   \n",
            "=================================================================\n",
            " conv2d_42 (Conv2D)          (None, 30, 30, 16)        448       \n",
            "                                                                 \n",
            " conv2d_43 (Conv2D)          (None, 28, 28, 32)        4640      \n",
            "                                                                 \n",
            " flatten_21 (Flatten)        (None, 25088)             0         \n",
            "                                                                 \n",
            " dense_63 (Dense)            (None, 256)               6422784   \n",
            "                                                                 \n",
            " dense_64 (Dense)            (None, 256)               65792     \n",
            "                                                                 \n",
            " dense_65 (Dense)            (None, 10)                2570      \n",
            "                                                                 \n",
            "=================================================================\n",
            "Total params: 6,496,234\n",
            "Trainable params: 6,496,234\n",
            "Non-trainable params: 0\n",
            "_________________________________________________________________\n"
          ]
        }
      ]
    },
    {
      "cell_type": "code",
      "source": [
        "model3.train(x_train, y_train, x_test, y_test)"
      ],
      "metadata": {
        "colab": {
          "base_uri": "https://localhost:8080/"
        },
        "id": "VHjp5sZgfCYF",
        "outputId": "78736c02-69ed-48cd-c1ac-829fa43645b7"
      },
      "execution_count": null,
      "outputs": [
        {
          "output_type": "stream",
          "name": "stdout",
          "text": [
            "Epoch 1/200\n",
            "1563/1563 [==============================] - 251s 160ms/step - loss: 2.3404 - accuracy: 0.0996 - val_loss: 2.3042 - val_accuracy: 0.1000\n",
            "Epoch 2/200\n",
            "1563/1563 [==============================] - 238s 153ms/step - loss: 2.3042 - accuracy: 0.0968 - val_loss: 2.3037 - val_accuracy: 0.1000\n",
            "Epoch 3/200\n",
            "1563/1563 [==============================] - 252s 161ms/step - loss: 2.3042 - accuracy: 0.0961 - val_loss: 2.3038 - val_accuracy: 0.1000\n",
            "Epoch 4/200\n",
            "1563/1563 [==============================] - 250s 160ms/step - loss: 2.3039 - accuracy: 0.1002 - val_loss: 2.3043 - val_accuracy: 0.1000\n",
            "Epoch 5/200\n",
            "1563/1563 [==============================] - 246s 158ms/step - loss: 2.3040 - accuracy: 0.0992 - val_loss: 2.3045 - val_accuracy: 0.1000\n",
            "Epoch 6/200\n",
            "1563/1563 [==============================] - 247s 158ms/step - loss: 2.3040 - accuracy: 0.0987 - val_loss: 2.3039 - val_accuracy: 0.1000\n",
            "Epoch 7/200\n",
            "1563/1563 [==============================] - 240s 154ms/step - loss: 2.3039 - accuracy: 0.0995 - val_loss: 2.3036 - val_accuracy: 0.1000\n",
            "Epoch 8/200\n",
            "1563/1563 [==============================] - 239s 153ms/step - loss: 2.3040 - accuracy: 0.0987 - val_loss: 2.3034 - val_accuracy: 0.1000\n",
            "Epoch 9/200\n",
            "1563/1563 [==============================] - 239s 153ms/step - loss: 2.3040 - accuracy: 0.0966 - val_loss: 2.3038 - val_accuracy: 0.1000\n",
            "Epoch 10/200\n",
            "1563/1563 [==============================] - 245s 157ms/step - loss: 2.3041 - accuracy: 0.1026 - val_loss: 2.3040 - val_accuracy: 0.1000\n",
            "Epoch 11/200\n",
            "1563/1563 [==============================] - 244s 156ms/step - loss: 2.3040 - accuracy: 0.0973 - val_loss: 2.3038 - val_accuracy: 0.1000\n"
          ]
        }
      ]
    },
    {
      "cell_type": "code",
      "source": [
        "model3.evaluate(x_test, y_test)"
      ],
      "metadata": {
        "colab": {
          "base_uri": "https://localhost:8080/",
          "height": 301
        },
        "id": "ESCpBm4-fECK",
        "outputId": "16ab0941-f732-4cc2-b133-d42bd516b5a1"
      },
      "execution_count": null,
      "outputs": [
        {
          "output_type": "stream",
          "name": "stdout",
          "text": [
            "313/313 - 8s - loss: 2.3042 - accuracy: 0.1000 - 8s/epoch - 24ms/step\n"
          ]
        },
        {
          "output_type": "display_data",
          "data": {
            "text/plain": [
              "<Figure size 432x288 with 1 Axes>"
            ],
            "image/png": "[encoded data removed]"
          },
          "metadata": {
            "needs_background": "light"
          }
        }
      ]
    }
  ]
}