{
  "cells": [
    {
      "cell_type": "markdown",
      "metadata": {
        "id": "oEBLNOttVXUi"
      },
      "source": [
        "# CIFAR-10 dataset on a modified ResNet\n",
        "\n",
        "In this notebook, we will perform a classification task on the [CIFAR-10 Dataset](https://archive.ics.uci.edu/ml/datasets/Qualitative_Bankruptcy) using a modified version of ResNet. We will freeze the convolutional layers of ResNet, remove the fully connected layer, and add our own configuration of fully connected layer(s). \n",
        "\n",
        "Reference: https://keras.io/guides/transfer_learning/ "
      ]
    },
    {
      "cell_type": "code",
      "execution_count": null,
      "metadata": {
        "colab": {
          "base_uri": "https://localhost:8080/"
        },
        "id": "i8_vVm1-VCOq",
        "outputId": "8a8ea9dc-bd1d-4380-fbc0-3a335fa30006"
      },
      "outputs": [
        {
          "output_type": "stream",
          "name": "stdout",
          "text": [
            "Looking in indexes: https://pypi.org/simple, https://us-python.pkg.dev/colab-wheels/public/simple/\n",
            "Collecting scikeras\n",
            "  Downloading scikeras-0.10.0-py3-none-any.whl (27 kB)\n",
            "Requirement already satisfied: scikit-learn>=1.0.0 in /usr/local/lib/python3.9/dist-packages (from scikeras) (1.2.1)\n",
            "Requirement already satisfied: packaging>=0.21 in /usr/local/lib/python3.9/dist-packages (from scikeras) (23.0)\n",
            "Requirement already satisfied: numpy>=1.17.3 in /usr/local/lib/python3.9/dist-packages (from scikit-learn>=1.0.0->scikeras) (1.22.4)\n",
            "Requirement already satisfied: scipy>=1.3.2 in /usr/local/lib/python3.9/dist-packages (from scikit-learn>=1.0.0->scikeras) (1.10.1)\n",
            "Requirement already satisfied: threadpoolctl>=2.0.0 in /usr/local/lib/python3.9/dist-packages (from scikit-learn>=1.0.0->scikeras) (3.1.0)\n",
            "Requirement already satisfied: joblib>=1.1.1 in /usr/local/lib/python3.9/dist-packages (from scikit-learn>=1.0.0->scikeras) (1.2.0)\n",
            "Installing collected packages: scikeras\n",
            "Successfully installed scikeras-0.10.0\n"
          ]
        }
      ],
      "source": [
        "# importing libraries\n",
        "import tensorflow as tf\n",
        "from tensorflow import keras\n",
        "from tensorflow.keras import datasets, layers, models\n",
        "from keras import callbacks\n",
        "import matplotlib.pyplot as plt\n",
        "import numpy as np\n",
        "import warnings\n",
        "from sklearn.model_selection import GridSearchCV, RandomizedSearchCV\n",
        "!pip install scikeras\n",
        "from scikeras.wrappers import KerasClassifier\n",
        "import math\n",
        "\n",
        "# Set the seed value for experiment reproducibility.\n",
        "seed = 1234\n",
        "tf.random.set_seed(seed)\n",
        "np.random.seed(seed)\n",
        "\n",
        "warnings.simplefilter('ignore')"
      ]
    },
    {
      "cell_type": "markdown",
      "metadata": {
        "id": "lfzIgHo6WedP"
      },
      "source": [
        "## ResNet Model 1\n",
        "\n",
        "We first load and normalize the CIFAR-10 dataset."
      ]
    },
    {
      "cell_type": "code",
      "execution_count": null,
      "metadata": {
        "colab": {
          "base_uri": "https://localhost:8080/"
        },
        "id": "26azZBldWhSP",
        "outputId": "2a8de04a-ce47-4ec5-99cc-566bcc0daab4"
      },
      "outputs": [
        {
          "name": "stdout",
          "output_type": "stream",
          "text": [
            "Shape of training data:\n",
            "(50000, 32, 32, 3)\n",
            "(50000, 1) \n",
            "\n",
            "Shape of test data:\n",
            "(10000, 32, 32, 3)\n",
            "(10000, 1) \n",
            "\n",
            "An example of a normalized instance:\n",
            "[[[-0.97682401 -1.01575822 -0.86457067]\n",
            "  [-1.20290054 -1.24397271 -1.09116305]\n",
            "  [-1.12196343 -1.23121589 -1.12774851]\n",
            "  ...\n",
            "  [ 0.37226975 -0.05993601 -0.30716213]\n",
            "  [ 0.29723427 -0.1483418  -0.37591352]\n",
            "  [ 0.24357708 -0.15787621 -0.36051491]]\n",
            "\n",
            " [[-1.5698109  -1.59760997 -1.39387218]\n",
            "  [-1.79991445 -1.88484817 -1.64744766]\n",
            "  [-1.56880617 -1.79174252 -1.66185562]\n",
            "  ...\n",
            "  [-0.09855519 -0.66409268 -0.96227293]\n",
            "  [-0.14373515 -0.72217858 -1.01627722]\n",
            "  [-0.09886808 -0.65922515 -0.92377691]]\n",
            "\n",
            " [[-1.45482436 -1.54821175 -1.37961682]\n",
            "  [-1.58630684 -1.79258968 -1.64550579]\n",
            "  [-1.14034845 -1.52843453 -1.55931244]\n",
            "  ...\n",
            "  [-0.15907907 -0.71348254 -1.01747988]\n",
            "  [-0.12110123 -0.70263699 -1.00953845]\n",
            "  [-0.27373108 -0.85187597 -1.1084575 ]]\n",
            "\n",
            " ...\n",
            "\n",
            " [[ 1.26721816  0.71031234 -0.27672181]\n",
            "  [ 1.20986321  0.48109763 -1.21174062]\n",
            "  [ 1.17926178  0.63133016 -1.33066033]\n",
            "  ...\n",
            "  [ 0.5692194   0.16522833 -0.64120195]\n",
            "  [-1.08853283 -1.52656858 -1.63132608]\n",
            "  [-1.13802143 -1.48037731 -1.43335148]]\n",
            "\n",
            " [[ 0.81731343  0.2020927  -0.28247862]\n",
            "  [ 0.74568475 -0.02579946 -1.09099214]\n",
            "  [ 0.95866824  0.32500583 -1.27838234]\n",
            "  ...\n",
            "  [ 0.92284091  0.3877421  -0.28374307]\n",
            "  [-0.44914626 -1.02249731 -1.21624255]\n",
            "  [-0.66815038 -1.16534453 -1.21410898]]\n",
            "\n",
            " [[ 0.75352629  0.27025378  0.00832434]\n",
            "  [ 0.64412788  0.05402909 -0.30553046]\n",
            "  [ 0.81618648  0.26392272 -0.41477557]\n",
            "  ...\n",
            "  [ 1.39508816  0.94662017  0.40326438]\n",
            "  [ 0.38073985 -0.12319737 -0.45860013]\n",
            "  [-0.05604997 -0.54031962 -0.6414024 ]]]\n",
            "shape: (32, 32, 3) \n",
            "\n",
            "An example of a label:\n",
            "[6]\n"
          ]
        }
      ],
      "source": [
        "# load the data\n",
        "(x_train, y_train), (x_test, y_test) = datasets.cifar10.load_data()\n",
        "\n",
        "# normalize the data\n",
        "x_train = (x_train - np.mean(x_train, axis=0)) / np.std(x_train, axis=0)\n",
        "x_test = (x_test - np.mean(x_test, axis=0)) / np.std(x_test, axis=0)\n",
        "\n",
        "# take a look at the data\n",
        "print(\"Shape of training data:\")\n",
        "print(x_train.shape)\n",
        "print(y_train.shape, \"\\n\")\n",
        "print(\"Shape of test data:\")\n",
        "print(x_test.shape)\n",
        "print(y_test.shape, \"\\n\")\n",
        "print(\"An example of a normalized instance:\")\n",
        "print(x_train[0])\n",
        "print(f'shape: {x_train[0].shape} \\n')\n",
        "print(\"An example of a label:\")\n",
        "print(y_train[0])"
      ]
    },
    {
      "cell_type": "markdown",
      "metadata": {
        "id": "0Eyu3xeEXTZP"
      },
      "source": [
        "Now let's build the modified ResNet model. The activation for the added fully connected layer(s) will be ReLU. Optimizer will be ADAM. We will use the default learning rate of ADAM in Keras (0.001) for now."
      ]
    },
    {
      "cell_type": "code",
      "execution_count": null,
      "metadata": {
        "id": "TU_Wf2R5XTBc"
      },
      "outputs": [],
      "source": [
        "class ResNet_mod:\n",
        "\n",
        "    def __init__(self, n_fclayers=2, n_neurons=[32, 32], activation='relu', learning_rate=0.001, \n",
        "                 epochs=20): # n_fclayers does not include the output layer\n",
        "        self.n_fclayers = n_fclayers\n",
        "        self.n_neurons = n_neurons\n",
        "        self.activation = activation\n",
        "        self.learning_rate = learning_rate\n",
        "        self.epochs = epochs\n",
        "\n",
        "    def make_model(self):\n",
        "        self.base_model = keras.applications.ResNet50(\n",
        "            weights='imagenet',  # Load weights pre-trained on ImageNet.\n",
        "            input_shape=(32, 32, 3), # shape of CIFAR10 data\n",
        "            include_top=False)  # Do not include the ImageNet classifier at the top\n",
        "                                # this is the fully connected layer of ResNet\n",
        "        \n",
        "        self.base_model.trainable = False\n",
        "\n",
        "        # create a new model on top of the base model\n",
        "        \n",
        "        inputs = keras.Input(shape=(32, 32, 3))\n",
        "        # Make sure that the base_model is running in inference mode here by passing `training=False`\n",
        "        x = self.base_model(inputs, training=False)\n",
        "\n",
        "        # new\n",
        "        x = layers.GlobalAveragePooling2D()(x)\n",
        "\n",
        "\n",
        "        #x = layers.Flatten()(x)\n",
        "\n",
        "\n",
        "        # add fully connected layer(s)\n",
        "        for i in range(self.n_fclayers):\n",
        "            x = keras.layers.Dense(self.n_neurons[i], activation=self.activation)(x)\n",
        "\n",
        "        outputs = keras.layers.Dense(10)(x)\n",
        "        model = keras.Model(inputs, outputs)\n",
        "\n",
        "        model.compile(optimizer=tf.keras.optimizers.Adam(learning_rate=self.learning_rate),\n",
        "                  loss=tf.keras.losses.SparseCategoricalCrossentropy(from_logits=True),\n",
        "                  metrics=['accuracy'])\n",
        "        \n",
        "        self.model = model\n",
        "\n",
        "    # def set_trainable(self, status):  # status takes a boolean\n",
        "    #     self.base_model.trainable = status\n",
        "\n",
        "    def summary(self):\n",
        "        self.model.summary()\n",
        "    \n",
        "    def train_new_layers(self, x_train, y_train, x_test, y_test):\n",
        "\n",
        "        earlystopping = callbacks.EarlyStopping(monitor=\"val_accuracy\",\n",
        "                                        mode=\"auto\", patience=10,\n",
        "                                        restore_best_weights=True)\n",
        "\n",
        "        self.history = self.model.fit(x_train, y_train, epochs=self.epochs, \n",
        "                                 validation_data=(x_test, y_test),\n",
        "                                 callbacks=[earlystopping])\n",
        "        \n",
        "    def train_whole_model(self, x_train, y_train, x_test, y_test):\n",
        "        # unfreeze all parts and train with a very low learning rate\n",
        "        self.base_model.trainable = True\n",
        "\n",
        "        # recompile the model\n",
        "        self.model.compile(optimizer=keras.optimizers.Adam(1e-5),  # Very low learning rate\n",
        "              loss=tf.keras.losses.SparseCategoricalCrossentropy(from_logits=True),\n",
        "              metrics=['accuracy'])\n",
        "        \n",
        "        earlystopping = callbacks.EarlyStopping(monitor=\"val_accuracy\",\n",
        "                                        mode=\"auto\", patience=10,\n",
        "                                        restore_best_weights=True)\n",
        "\n",
        "        self.history = self.model.fit(x_train, y_train, epochs=self.epochs, \n",
        "                                 validation_data=(x_test, y_test),\n",
        "                                 callbacks=[earlystopping])\n",
        "    \n",
        "    def evaluate(self, x_test, y_test):\n",
        "        plt.plot(self.history.history['accuracy'], label='training accuracy')\n",
        "        plt.plot(self.history.history['val_accuracy'], label = 'test accuracy')\n",
        "        plt.xlabel('Epoch')\n",
        "        plt.ylabel('Accuracy')\n",
        "        plt.ylim([0, 1])\n",
        "        plt.legend(loc='lower right')\n",
        "\n",
        "        test_loss, test_acc = self.model.evaluate(x_test,  y_test, verbose=2)"
      ]
    },
    {
      "cell_type": "markdown",
      "metadata": {
        "id": "uIK48b7c28BI"
      },
      "source": [
        "Let's test the model on a small dataset. Let's add only one fully connected layer (besides the output layer). "
      ]
    },
    {
      "cell_type": "code",
      "execution_count": null,
      "metadata": {
        "colab": {
          "base_uri": "https://localhost:8080/"
        },
        "id": "iAqnw6_j2-sQ",
        "outputId": "d8a1460f-bf1e-41af-ddf5-71cfd0c49076"
      },
      "outputs": [
        {
          "name": "stdout",
          "output_type": "stream",
          "text": [
            "Model: \"model_1\"\n",
            "_________________________________________________________________\n",
            " Layer (type)                Output Shape              Param #   \n",
            "=================================================================\n",
            " input_4 (InputLayer)        [(None, 32, 32, 3)]       0         \n",
            "                                                                 \n",
            " resnet50 (Functional)       (None, 1, 1, 2048)        23587712  \n",
            "                                                                 \n",
            " flatten_1 (Flatten)         (None, 2048)              0         \n",
            "                                                                 \n",
            " dense_2 (Dense)             (None, 32)                65568     \n",
            "                                                                 \n",
            " dense_3 (Dense)             (None, 32)                1056      \n",
            "                                                                 \n",
            " dense_4 (Dense)             (None, 10)                330       \n",
            "                                                                 \n",
            "=================================================================\n",
            "Total params: 23,654,666\n",
            "Trainable params: 66,954\n",
            "Non-trainable params: 23,587,712\n",
            "_________________________________________________________________\n"
          ]
        }
      ],
      "source": [
        "test_model = ResNet_mod()\n",
        "test_model.make_model()\n",
        "test_model.summary()"
      ]
    },
    {
      "cell_type": "markdown",
      "metadata": {
        "id": "B5Pi-0Z_3rhG"
      },
      "source": [
        "Let's train the new layers of the model."
      ]
    },
    {
      "cell_type": "code",
      "execution_count": null,
      "metadata": {
        "colab": {
          "base_uri": "https://localhost:8080/"
        },
        "id": "AGZBTZAf3sxE",
        "outputId": "157cf28d-20ed-4194-89a0-e9b8daa7684d"
      },
      "outputs": [
        {
          "name": "stdout",
          "output_type": "stream",
          "text": [
            "Epoch 1/20\n",
            "32/32 [==============================] - 18s 128ms/step - loss: 2.2926 - accuracy: 0.1660 - val_loss: 2.2082 - val_accuracy: 0.1780\n",
            "Epoch 2/20\n",
            "32/32 [==============================] - 1s 34ms/step - loss: 2.1617 - accuracy: 0.2070 - val_loss: 2.2204 - val_accuracy: 0.1980\n",
            "Epoch 3/20\n",
            "32/32 [==============================] - 2s 53ms/step - loss: 2.1229 - accuracy: 0.2220 - val_loss: 2.1039 - val_accuracy: 0.2590\n",
            "Epoch 4/20\n",
            "32/32 [==============================] - 1s 37ms/step - loss: 2.0068 - accuracy: 0.2750 - val_loss: 2.0522 - val_accuracy: 0.2580\n",
            "Epoch 5/20\n",
            "32/32 [==============================] - 1s 36ms/step - loss: 1.9189 - accuracy: 0.3020 - val_loss: 2.0383 - val_accuracy: 0.2440\n",
            "Epoch 6/20\n",
            "32/32 [==============================] - 1s 33ms/step - loss: 1.8752 - accuracy: 0.3300 - val_loss: 1.9633 - val_accuracy: 0.2910\n",
            "Epoch 7/20\n",
            "32/32 [==============================] - 1s 34ms/step - loss: 1.7747 - accuracy: 0.3670 - val_loss: 1.9538 - val_accuracy: 0.3020\n",
            "Epoch 8/20\n",
            "32/32 [==============================] - 1s 41ms/step - loss: 1.7366 - accuracy: 0.3990 - val_loss: 1.9201 - val_accuracy: 0.3300\n",
            "Epoch 9/20\n",
            "32/32 [==============================] - 1s 30ms/step - loss: 1.6741 - accuracy: 0.3990 - val_loss: 1.9099 - val_accuracy: 0.3070\n",
            "Epoch 10/20\n",
            "32/32 [==============================] - 1s 45ms/step - loss: 1.6378 - accuracy: 0.4150 - val_loss: 1.8940 - val_accuracy: 0.3250\n",
            "Epoch 11/20\n",
            "32/32 [==============================] - 1s 37ms/step - loss: 1.6003 - accuracy: 0.4350 - val_loss: 1.8802 - val_accuracy: 0.3250\n",
            "Epoch 12/20\n",
            "32/32 [==============================] - 1s 35ms/step - loss: 1.5505 - accuracy: 0.4570 - val_loss: 1.8754 - val_accuracy: 0.3280\n",
            "Epoch 13/20\n",
            "32/32 [==============================] - 1s 32ms/step - loss: 1.5220 - accuracy: 0.4510 - val_loss: 1.9125 - val_accuracy: 0.3350\n",
            "Epoch 14/20\n",
            "32/32 [==============================] - 1s 40ms/step - loss: 1.4969 - accuracy: 0.4640 - val_loss: 1.9063 - val_accuracy: 0.3470\n",
            "Epoch 15/20\n",
            "32/32 [==============================] - 1s 35ms/step - loss: 1.4667 - accuracy: 0.4840 - val_loss: 1.8777 - val_accuracy: 0.3310\n",
            "Epoch 16/20\n",
            "32/32 [==============================] - 1s 36ms/step - loss: 1.4278 - accuracy: 0.4960 - val_loss: 1.8949 - val_accuracy: 0.3370\n",
            "Epoch 17/20\n",
            "32/32 [==============================] - 1s 40ms/step - loss: 1.3733 - accuracy: 0.5160 - val_loss: 1.9181 - val_accuracy: 0.3570\n",
            "Epoch 18/20\n",
            "32/32 [==============================] - 1s 27ms/step - loss: 1.3640 - accuracy: 0.5430 - val_loss: 1.9025 - val_accuracy: 0.3530\n",
            "Epoch 19/20\n",
            "32/32 [==============================] - 1s 36ms/step - loss: 1.3283 - accuracy: 0.5450 - val_loss: 1.9065 - val_accuracy: 0.3380\n",
            "Epoch 20/20\n",
            "32/32 [==============================] - 1s 36ms/step - loss: 1.3036 - accuracy: 0.5420 - val_loss: 1.9196 - val_accuracy: 0.3470\n"
          ]
        }
      ],
      "source": [
        "test_model.train_new_layers(x_train[:1000], y_train[:1000], x_test[:1000], y_test[:1000])"
      ]
    },
    {
      "cell_type": "code",
      "execution_count": null,
      "metadata": {
        "colab": {
          "base_uri": "https://localhost:8080/",
          "height": 301
        },
        "id": "r122i3yn5NXU",
        "outputId": "f60d4223-63e7-4944-90b4-e2ad2a75a1ca"
      },
      "outputs": [
        {
          "name": "stdout",
          "output_type": "stream",
          "text": [
            "32/32 - 0s - loss: 1.9196 - accuracy: 0.3470 - 462ms/epoch - 14ms/step\n"
          ]
        },
        {
          "data": {
            "image/png": "[encoded data removed]",
            "text/plain": [
              "<Figure size 432x288 with 1 Axes>"
            ]
          },
          "metadata": {},
          "output_type": "display_data"
        }
      ],
      "source": [
        "test_model.evaluate(x_test[:1000], y_test[:1000])"
      ]
    },
    {
      "cell_type": "markdown",
      "metadata": {
        "id": "sGCIXcMc5Cpf"
      },
      "source": [
        "The training and test accuracies are expectedly bad with the small dataset and only 20 training epochs. Let's train the whole model and see if there will be any improvement."
      ]
    },
    {
      "cell_type": "code",
      "execution_count": null,
      "metadata": {
        "colab": {
          "base_uri": "https://localhost:8080/"
        },
        "id": "nM3JWNQN5Ma9",
        "outputId": "28c49cb9-8ba1-4ad2-da8d-4336b0e3eb9f"
      },
      "outputs": [
        {
          "name": "stdout",
          "output_type": "stream",
          "text": [
            "Epoch 1/20\n",
            "32/32 [==============================] - 50s 158ms/step - loss: 1.6771 - accuracy: 0.4080 - val_loss: 1.9952 - val_accuracy: 0.2890\n",
            "Epoch 2/20\n",
            "32/32 [==============================] - 2s 76ms/step - loss: 1.4138 - accuracy: 0.4970 - val_loss: 1.9957 - val_accuracy: 0.3070\n",
            "Epoch 3/20\n",
            "32/32 [==============================] - 2s 77ms/step - loss: 1.2570 - accuracy: 0.5450 - val_loss: 1.9806 - val_accuracy: 0.3490\n",
            "Epoch 4/20\n",
            "32/32 [==============================] - 2s 76ms/step - loss: 1.1560 - accuracy: 0.5850 - val_loss: 1.9717 - val_accuracy: 0.3520\n",
            "Epoch 5/20\n",
            "32/32 [==============================] - 2s 77ms/step - loss: 1.1298 - accuracy: 0.5910 - val_loss: 1.9862 - val_accuracy: 0.3520\n",
            "Epoch 6/20\n",
            "32/32 [==============================] - 2s 76ms/step - loss: 1.0156 - accuracy: 0.6450 - val_loss: 1.9886 - val_accuracy: 0.3740\n",
            "Epoch 7/20\n",
            "32/32 [==============================] - 2s 62ms/step - loss: 0.9173 - accuracy: 0.6850 - val_loss: 2.1887 - val_accuracy: 0.3640\n",
            "Epoch 8/20\n",
            "32/32 [==============================] - 2s 63ms/step - loss: 0.9598 - accuracy: 0.6640 - val_loss: 2.0509 - val_accuracy: 0.3700\n",
            "Epoch 9/20\n",
            "32/32 [==============================] - 2s 71ms/step - loss: 0.7999 - accuracy: 0.7280 - val_loss: 2.1290 - val_accuracy: 0.3590\n",
            "Epoch 10/20\n",
            "32/32 [==============================] - 2s 71ms/step - loss: 0.7283 - accuracy: 0.7540 - val_loss: 2.1119 - val_accuracy: 0.3770\n",
            "Epoch 11/20\n",
            "32/32 [==============================] - 3s 84ms/step - loss: 0.6549 - accuracy: 0.7780 - val_loss: 2.2301 - val_accuracy: 0.3410\n",
            "Epoch 12/20\n",
            "32/32 [==============================] - 2s 61ms/step - loss: 0.5891 - accuracy: 0.8060 - val_loss: 2.2747 - val_accuracy: 0.3400\n",
            "Epoch 13/20\n",
            "32/32 [==============================] - 3s 83ms/step - loss: 0.5485 - accuracy: 0.8250 - val_loss: 2.2357 - val_accuracy: 0.3910\n",
            "Epoch 14/20\n",
            "32/32 [==============================] - 2s 72ms/step - loss: 0.5422 - accuracy: 0.8260 - val_loss: 2.2074 - val_accuracy: 0.4090\n",
            "Epoch 15/20\n",
            "32/32 [==============================] - 2s 60ms/step - loss: 0.4402 - accuracy: 0.8700 - val_loss: 2.3575 - val_accuracy: 0.3760\n",
            "Epoch 16/20\n",
            "32/32 [==============================] - 2s 79ms/step - loss: 0.4235 - accuracy: 0.8560 - val_loss: 2.4250 - val_accuracy: 0.3980\n",
            "Epoch 17/20\n",
            "32/32 [==============================] - 2s 76ms/step - loss: 0.4684 - accuracy: 0.8480 - val_loss: 2.5284 - val_accuracy: 0.3470\n",
            "Epoch 18/20\n",
            "32/32 [==============================] - 2s 69ms/step - loss: 0.3872 - accuracy: 0.8850 - val_loss: 2.3953 - val_accuracy: 0.3730\n",
            "Epoch 19/20\n",
            "32/32 [==============================] - 2s 69ms/step - loss: 0.3048 - accuracy: 0.9110 - val_loss: 2.4869 - val_accuracy: 0.3800\n",
            "Epoch 20/20\n",
            "32/32 [==============================] - 2s 69ms/step - loss: 0.3446 - accuracy: 0.8910 - val_loss: 2.6272 - val_accuracy: 0.3800\n"
          ]
        }
      ],
      "source": [
        "test_model.train_whole_model(x_train[:1000], y_train[:1000], x_test[:1000], y_test[:1000])"
      ]
    },
    {
      "cell_type": "code",
      "execution_count": null,
      "metadata": {
        "colab": {
          "base_uri": "https://localhost:8080/",
          "height": 301
        },
        "id": "0HOaU8M_q9_d",
        "outputId": "96274934-8a1d-4c27-a0c9-866d8ed6e0dd"
      },
      "outputs": [
        {
          "name": "stdout",
          "output_type": "stream",
          "text": [
            "32/32 - 1s - loss: 2.6272 - accuracy: 0.3800 - 1s/epoch - 32ms/step\n"
          ]
        },
        {
          "data": {
            "image/png": "[encoded data removed]",
            "text/plain": [
              "<Figure size 432x288 with 1 Axes>"
            ]
          },
          "metadata": {},
          "output_type": "display_data"
        }
      ],
      "source": [
        "test_model.evaluate(x_test[:1000], y_test[:1000])"
      ]
    },
    {
      "cell_type": "markdown",
      "metadata": {
        "id": "_mdO1qCF9TnG"
      },
      "source": [
        "The training accuracy improved a lot. The test accuracy is still low. The model seems to have overfit.\n",
        "\n",
        "Let's tune the hyperparameters. \n",
        "\n",
        "Reference: https://datagraphi.com/blog/post/2019/12/17/how-to-find-the-optimum-number-of-hidden-layers-and-nodes-in-a-neural-network-model "
      ]
    },
    {
      "cell_type": "code",
      "execution_count": null,
      "metadata": {
        "colab": {
          "base_uri": "https://localhost:8080/"
        },
        "id": "rSU2jv5d-Om0",
        "outputId": "798a97e0-3744-48bf-9fa9-cb89e4a39c2d"
      },
      "outputs": [
        {
          "name": "stdout",
          "output_type": "stream",
          "text": [
            "Best: 0.356899 using {'first_layer_nodes': 256, 'last_layer_nodes': 256, 'n_layers': 2, 'optimizer__learning_rate': 0.1}\n",
            "nan (nan) with: {'first_layer_nodes': 256, 'last_layer_nodes': 256, 'n_layers': 1, 'optimizer__learning_rate': 0.001}\n",
            "0.342800 (0.004244) with: {'first_layer_nodes': 256, 'last_layer_nodes': 256, 'n_layers': 1, 'optimizer__learning_rate': 0.01}\n",
            "0.332501 (0.009473) with: {'first_layer_nodes': 256, 'last_layer_nodes': 256, 'n_layers': 1, 'optimizer__learning_rate': 0.1}\n",
            "0.325200 (0.006252) with: {'first_layer_nodes': 256, 'last_layer_nodes': 256, 'n_layers': 2, 'optimizer__learning_rate': 0.001}\n",
            "0.324202 (0.015114) with: {'first_layer_nodes': 256, 'last_layer_nodes': 256, 'n_layers': 2, 'optimizer__learning_rate': 0.01}\n",
            "0.356899 (0.012421) with: {'first_layer_nodes': 256, 'last_layer_nodes': 256, 'n_layers': 2, 'optimizer__learning_rate': 0.1}\n",
            "0.323798 (0.014203) with: {'first_layer_nodes': 256, 'last_layer_nodes': 256, 'n_layers': 3, 'optimizer__learning_rate': 0.001}\n",
            "0.336500 (0.018231) with: {'first_layer_nodes': 256, 'last_layer_nodes': 256, 'n_layers': 3, 'optimizer__learning_rate': 0.01}\n",
            "0.326701 (0.012635) with: {'first_layer_nodes': 256, 'last_layer_nodes': 256, 'n_layers': 3, 'optimizer__learning_rate': 0.1}\n",
            "0.345000 (0.003081) with: {'first_layer_nodes': 256, 'last_layer_nodes': 128, 'n_layers': 1, 'optimizer__learning_rate': 0.001}\n",
            "0.337800 (0.006728) with: {'first_layer_nodes': 256, 'last_layer_nodes': 128, 'n_layers': 1, 'optimizer__learning_rate': 0.01}\n",
            "0.327402 (0.017687) with: {'first_layer_nodes': 256, 'last_layer_nodes': 128, 'n_layers': 1, 'optimizer__learning_rate': 0.1}\n",
            "0.326700 (0.011793) with: {'first_layer_nodes': 256, 'last_layer_nodes': 128, 'n_layers': 2, 'optimizer__learning_rate': 0.001}\n",
            "0.338700 (0.002734) with: {'first_layer_nodes': 256, 'last_layer_nodes': 128, 'n_layers': 2, 'optimizer__learning_rate': 0.01}\n",
            "0.331601 (0.009515) with: {'first_layer_nodes': 256, 'last_layer_nodes': 128, 'n_layers': 2, 'optimizer__learning_rate': 0.1}\n",
            "0.327201 (0.013644) with: {'first_layer_nodes': 256, 'last_layer_nodes': 128, 'n_layers': 3, 'optimizer__learning_rate': 0.001}\n",
            "0.326600 (0.003192) with: {'first_layer_nodes': 256, 'last_layer_nodes': 128, 'n_layers': 3, 'optimizer__learning_rate': 0.01}\n",
            "0.320399 (0.006534) with: {'first_layer_nodes': 256, 'last_layer_nodes': 128, 'n_layers': 3, 'optimizer__learning_rate': 0.1}\n",
            "0.354299 (0.007202) with: {'first_layer_nodes': 256, 'last_layer_nodes': 64, 'n_layers': 1, 'optimizer__learning_rate': 0.001}\n",
            "0.327898 (0.016074) with: {'first_layer_nodes': 256, 'last_layer_nodes': 64, 'n_layers': 1, 'optimizer__learning_rate': 0.01}\n",
            "0.352700 (0.007842) with: {'first_layer_nodes': 256, 'last_layer_nodes': 64, 'n_layers': 1, 'optimizer__learning_rate': 0.1}\n",
            "0.335001 (0.007394) with: {'first_layer_nodes': 256, 'last_layer_nodes': 64, 'n_layers': 2, 'optimizer__learning_rate': 0.001}\n",
            "0.319300 (0.014952) with: {'first_layer_nodes': 256, 'last_layer_nodes': 64, 'n_layers': 2, 'optimizer__learning_rate': 0.01}\n",
            "0.334800 (0.004965) with: {'first_layer_nodes': 256, 'last_layer_nodes': 64, 'n_layers': 2, 'optimizer__learning_rate': 0.1}\n",
            "0.327001 (0.005820) with: {'first_layer_nodes': 256, 'last_layer_nodes': 64, 'n_layers': 3, 'optimizer__learning_rate': 0.001}\n",
            "0.326500 (0.004706) with: {'first_layer_nodes': 256, 'last_layer_nodes': 64, 'n_layers': 3, 'optimizer__learning_rate': 0.01}\n",
            "0.312904 (0.025378) with: {'first_layer_nodes': 256, 'last_layer_nodes': 64, 'n_layers': 3, 'optimizer__learning_rate': 0.1}\n",
            "0.342499 (0.007243) with: {'first_layer_nodes': 128, 'last_layer_nodes': 256, 'n_layers': 1, 'optimizer__learning_rate': 0.001}\n",
            "0.342899 (0.007190) with: {'first_layer_nodes': 128, 'last_layer_nodes': 256, 'n_layers': 1, 'optimizer__learning_rate': 0.01}\n",
            "0.349801 (0.010234) with: {'first_layer_nodes': 128, 'last_layer_nodes': 256, 'n_layers': 1, 'optimizer__learning_rate': 0.1}\n",
            "0.325400 (0.011176) with: {'first_layer_nodes': 128, 'last_layer_nodes': 256, 'n_layers': 2, 'optimizer__learning_rate': 0.001}\n",
            "0.332399 (0.007663) with: {'first_layer_nodes': 128, 'last_layer_nodes': 256, 'n_layers': 2, 'optimizer__learning_rate': 0.01}\n",
            "0.316598 (0.013619) with: {'first_layer_nodes': 128, 'last_layer_nodes': 256, 'n_layers': 2, 'optimizer__learning_rate': 0.1}\n",
            "0.314902 (0.021509) with: {'first_layer_nodes': 128, 'last_layer_nodes': 256, 'n_layers': 3, 'optimizer__learning_rate': 0.001}\n",
            "0.289895 (0.041364) with: {'first_layer_nodes': 128, 'last_layer_nodes': 256, 'n_layers': 3, 'optimizer__learning_rate': 0.01}\n",
            "0.334300 (0.008820) with: {'first_layer_nodes': 128, 'last_layer_nodes': 256, 'n_layers': 3, 'optimizer__learning_rate': 0.1}\n",
            "0.331102 (0.014614) with: {'first_layer_nodes': 128, 'last_layer_nodes': 128, 'n_layers': 1, 'optimizer__learning_rate': 0.001}\n",
            "0.340298 (0.011572) with: {'first_layer_nodes': 128, 'last_layer_nodes': 128, 'n_layers': 1, 'optimizer__learning_rate': 0.01}\n",
            "0.339299 (0.003898) with: {'first_layer_nodes': 128, 'last_layer_nodes': 128, 'n_layers': 1, 'optimizer__learning_rate': 0.1}\n",
            "0.321500 (0.014713) with: {'first_layer_nodes': 128, 'last_layer_nodes': 128, 'n_layers': 2, 'optimizer__learning_rate': 0.001}\n",
            "0.323800 (0.005635) with: {'first_layer_nodes': 128, 'last_layer_nodes': 128, 'n_layers': 2, 'optimizer__learning_rate': 0.01}\n",
            "0.331401 (0.007518) with: {'first_layer_nodes': 128, 'last_layer_nodes': 128, 'n_layers': 2, 'optimizer__learning_rate': 0.1}\n",
            "0.323302 (0.010862) with: {'first_layer_nodes': 128, 'last_layer_nodes': 128, 'n_layers': 3, 'optimizer__learning_rate': 0.001}\n",
            "0.313798 (0.012414) with: {'first_layer_nodes': 128, 'last_layer_nodes': 128, 'n_layers': 3, 'optimizer__learning_rate': 0.01}\n",
            "0.313200 (0.000926) with: {'first_layer_nodes': 128, 'last_layer_nodes': 128, 'n_layers': 3, 'optimizer__learning_rate': 0.1}\n",
            "0.342300 (0.003442) with: {'first_layer_nodes': 128, 'last_layer_nodes': 64, 'n_layers': 1, 'optimizer__learning_rate': 0.001}\n",
            "0.331999 (0.006712) with: {'first_layer_nodes': 128, 'last_layer_nodes': 64, 'n_layers': 1, 'optimizer__learning_rate': 0.01}\n",
            "0.339600 (0.019741) with: {'first_layer_nodes': 128, 'last_layer_nodes': 64, 'n_layers': 1, 'optimizer__learning_rate': 0.1}\n",
            "0.322101 (0.007667) with: {'first_layer_nodes': 128, 'last_layer_nodes': 64, 'n_layers': 2, 'optimizer__learning_rate': 0.001}\n",
            "0.322701 (0.005079) with: {'first_layer_nodes': 128, 'last_layer_nodes': 64, 'n_layers': 2, 'optimizer__learning_rate': 0.01}\n",
            "0.324497 (0.020073) with: {'first_layer_nodes': 128, 'last_layer_nodes': 64, 'n_layers': 2, 'optimizer__learning_rate': 0.1}\n",
            "0.307901 (0.018487) with: {'first_layer_nodes': 128, 'last_layer_nodes': 64, 'n_layers': 3, 'optimizer__learning_rate': 0.001}\n",
            "0.304799 (0.010129) with: {'first_layer_nodes': 128, 'last_layer_nodes': 64, 'n_layers': 3, 'optimizer__learning_rate': 0.01}\n",
            "0.316300 (0.015566) with: {'first_layer_nodes': 128, 'last_layer_nodes': 64, 'n_layers': 3, 'optimizer__learning_rate': 0.1}\n",
            "0.327102 (0.013413) with: {'first_layer_nodes': 64, 'last_layer_nodes': 256, 'n_layers': 1, 'optimizer__learning_rate': 0.001}\n",
            "0.321197 (0.024342) with: {'first_layer_nodes': 64, 'last_layer_nodes': 256, 'n_layers': 1, 'optimizer__learning_rate': 0.01}\n",
            "0.332901 (0.005603) with: {'first_layer_nodes': 64, 'last_layer_nodes': 256, 'n_layers': 1, 'optimizer__learning_rate': 0.1}\n",
            "0.324399 (0.019265) with: {'first_layer_nodes': 64, 'last_layer_nodes': 256, 'n_layers': 2, 'optimizer__learning_rate': 0.001}\n",
            "0.318601 (0.012946) with: {'first_layer_nodes': 64, 'last_layer_nodes': 256, 'n_layers': 2, 'optimizer__learning_rate': 0.01}\n",
            "0.332702 (0.013343) with: {'first_layer_nodes': 64, 'last_layer_nodes': 256, 'n_layers': 2, 'optimizer__learning_rate': 0.1}\n",
            "0.314201 (0.011321) with: {'first_layer_nodes': 64, 'last_layer_nodes': 256, 'n_layers': 3, 'optimizer__learning_rate': 0.001}\n",
            "0.309201 (0.023010) with: {'first_layer_nodes': 64, 'last_layer_nodes': 256, 'n_layers': 3, 'optimizer__learning_rate': 0.01}\n",
            "0.306202 (0.014979) with: {'first_layer_nodes': 64, 'last_layer_nodes': 256, 'n_layers': 3, 'optimizer__learning_rate': 0.1}\n",
            "0.327500 (0.008664) with: {'first_layer_nodes': 64, 'last_layer_nodes': 128, 'n_layers': 1, 'optimizer__learning_rate': 0.001}\n",
            "0.326100 (0.003617) with: {'first_layer_nodes': 64, 'last_layer_nodes': 128, 'n_layers': 1, 'optimizer__learning_rate': 0.01}\n",
            "0.333601 (0.007338) with: {'first_layer_nodes': 64, 'last_layer_nodes': 128, 'n_layers': 1, 'optimizer__learning_rate': 0.1}\n",
            "0.319001 (0.013996) with: {'first_layer_nodes': 64, 'last_layer_nodes': 128, 'n_layers': 2, 'optimizer__learning_rate': 0.001}\n",
            "0.329699 (0.010279) with: {'first_layer_nodes': 64, 'last_layer_nodes': 128, 'n_layers': 2, 'optimizer__learning_rate': 0.01}\n",
            "0.325900 (0.005949) with: {'first_layer_nodes': 64, 'last_layer_nodes': 128, 'n_layers': 2, 'optimizer__learning_rate': 0.1}\n",
            "0.298801 (0.004464) with: {'first_layer_nodes': 64, 'last_layer_nodes': 128, 'n_layers': 3, 'optimizer__learning_rate': 0.001}\n",
            "0.322801 (0.005809) with: {'first_layer_nodes': 64, 'last_layer_nodes': 128, 'n_layers': 3, 'optimizer__learning_rate': 0.01}\n",
            "0.294401 (0.008816) with: {'first_layer_nodes': 64, 'last_layer_nodes': 128, 'n_layers': 3, 'optimizer__learning_rate': 0.1}\n",
            "0.340101 (0.006754) with: {'first_layer_nodes': 64, 'last_layer_nodes': 64, 'n_layers': 1, 'optimizer__learning_rate': 0.001}\n",
            "0.318499 (0.006077) with: {'first_layer_nodes': 64, 'last_layer_nodes': 64, 'n_layers': 1, 'optimizer__learning_rate': 0.01}\n",
            "0.314499 (0.006363) with: {'first_layer_nodes': 64, 'last_layer_nodes': 64, 'n_layers': 1, 'optimizer__learning_rate': 0.1}\n",
            "0.326599 (0.005942) with: {'first_layer_nodes': 64, 'last_layer_nodes': 64, 'n_layers': 2, 'optimizer__learning_rate': 0.001}\n",
            "0.318201 (0.008858) with: {'first_layer_nodes': 64, 'last_layer_nodes': 64, 'n_layers': 2, 'optimizer__learning_rate': 0.01}\n",
            "0.297201 (0.010213) with: {'first_layer_nodes': 64, 'last_layer_nodes': 64, 'n_layers': 2, 'optimizer__learning_rate': 0.1}\n",
            "0.312299 (0.005656) with: {'first_layer_nodes': 64, 'last_layer_nodes': 64, 'n_layers': 3, 'optimizer__learning_rate': 0.001}\n",
            "0.325699 (0.007886) with: {'first_layer_nodes': 64, 'last_layer_nodes': 64, 'n_layers': 3, 'optimizer__learning_rate': 0.01}\n",
            "0.304700 (0.006480) with: {'first_layer_nodes': 64, 'last_layer_nodes': 64, 'n_layers': 3, 'optimizer__learning_rate': 0.1}\n"
          ]
        }
      ],
      "source": [
        "# a helper function to decide the number of units in a layer\n",
        "def FindLayerNodesLinear(n_layers, first_layer_nodes, last_layer_nodes):\n",
        "    # I am only testing either 1, 2, or 3 hidden layers\n",
        "    two_exponents = [256, 128, 64, 32, 16]\n",
        "\n",
        "    if n_layers == 1:\n",
        "        return [first_layer_nodes]\n",
        "\n",
        "    if n_layers == 2:\n",
        "        return [first_layer_nodes, last_layer_nodes]\n",
        "    \n",
        "    else:\n",
        "        first_layer_index = two_exponents.index(first_layer_nodes)\n",
        "        last_layer_index = two_exponents.index(last_layer_nodes)\n",
        "        middle_layer_index = math.ceil((first_layer_index + last_layer_index) / 2)\n",
        "        n_middle_layer = two_exponents[middle_layer_index]\n",
        "        return [first_layer_nodes, n_middle_layer, last_layer_nodes]\n",
        "\n",
        "def create_model(n_layers, first_layer_nodes, last_layer_nodes):\n",
        "    base_model = keras.applications.ResNet50(\n",
        "            weights='imagenet',  # Load weights pre-trained on ImageNet.\n",
        "            input_shape=(32, 32, 3), # shape of CIFAR10 data\n",
        "            include_top=False)  # Do not include the ImageNet classifier at the top\n",
        "                                # this is the fully connected layer of ResNet\n",
        "        \n",
        "    base_model.trainable = False\n",
        "\n",
        "    # create a new model on top of the base model\n",
        "    \n",
        "    inputs = keras.Input(shape=(32, 32, 3))\n",
        "    # Make sure that the base_model is running in inference mode here by passing `training=False`\n",
        "    x = base_model(inputs, training=False)\n",
        "    x = layers.Flatten()(x)\n",
        "    # add fully connected layer(s)\n",
        "    n_nodes = FindLayerNodesLinear(n_layers, first_layer_nodes, last_layer_nodes)\n",
        "    for i in range(1, n_layers+1):\n",
        "        if i==1:\n",
        "            x = keras.layers.Dense(first_layer_nodes, input_dim=x_train.shape[1], activation='relu')(x)\n",
        "        else:\n",
        "            x = keras.layers.Dense(n_nodes[i-1], activation='relu')(x)\n",
        "\n",
        "    outputs = keras.layers.Dense(10)(x)\n",
        "    model = keras.Model(inputs, outputs)\n",
        "\n",
        "    model.compile(optimizer='adam',\n",
        "              loss=tf.keras.losses.SparseCategoricalCrossentropy(from_logits=True),\n",
        "              metrics=['accuracy'])\n",
        "    \n",
        "    return model\n",
        "\n",
        "# create model\n",
        "model = KerasClassifier(build_fn=create_model, verbose = False, n_layers=[1,2,3], \n",
        "                        first_layer_nodes=[256,128,64], last_layer_nodes=[256,128,64])  \n",
        "\n",
        "# define the grid search parameters\n",
        "learn_rate = [0.001, 0.01, 0.1]\n",
        "\n",
        "param_grid = dict(n_layers=[1,2,3], first_layer_nodes=[256,128,64], \n",
        "                  last_layer_nodes=[256,128,64], optimizer__learning_rate=learn_rate)\n",
        "# param_grid = dict(n_layers=n_layers, first_layer_nodes=first_layer_nodes, last_layer_nodes=last_layer_nodes, \n",
        "#      optimizer__learning_rate=learn_rate)\n",
        "\n",
        "# use 3-fold\n",
        "grid = GridSearchCV(estimator=model, param_grid=param_grid, n_jobs=-1, cv=3)\n",
        "\n",
        "# use a smaller dataset to tune because of hardware limitations\n",
        "grid_result = grid.fit(x_train[:10000], y_train[:10000])\n",
        "\n",
        "# summarize results\n",
        "print(\"Best: %f using %s\" % (grid_result.best_score_, grid_result.best_params_))\n",
        "means = grid_result.cv_results_['mean_test_score']\n",
        "stds = grid_result.cv_results_['std_test_score']\n",
        "params = grid_result.cv_results_['params']\n",
        "for mean, stdev, param in zip(means, stds, params):\n",
        "    print(\"%f (%f) with: %r\" % (mean, stdev, param))"
      ]
    },
    {
      "cell_type": "markdown",
      "metadata": {
        "id": "6bQ55VVz-yB5"
      },
      "source": [
        "Based on the result of hyperparameter tuning, we tried using learning rate 0.1 and add two fully connected hidden layers, both with 256 units. It turned out using a learning rate of 0.1 did not converge. This is likely due to the smaller dataset size used while tuning the hyperparameters. Here we will use the default learning rate of the ADAM optimizer in Keras, 0.001.\n"
      ]
    },
    {
      "cell_type": "code",
      "execution_count": null,
      "metadata": {
        "colab": {
          "base_uri": "https://localhost:8080/"
        },
        "id": "y2hmtnAPkprF",
        "outputId": "a688e4d8-cadf-4224-dd06-c5f74bbdfeee"
      },
      "outputs": [
        {
          "name": "stdout",
          "output_type": "stream",
          "text": [
            "Downloading data from https://storage.googleapis.com/tensorflow/keras-applications/resnet/resnet50_weights_tf_dim_ordering_tf_kernels_notop.h5\n",
            "94765736/94765736 [==============================] - 1s 0us/step\n",
            "Model: \"model\"\n",
            "_________________________________________________________________\n",
            " Layer (type)                Output Shape              Param #   \n",
            "=================================================================\n",
            " input_2 (InputLayer)        [(None, 32, 32, 3)]       0         \n",
            "                                                                 \n",
            " resnet50 (Functional)       (None, 1, 1, 2048)        23587712  \n",
            "                                                                 \n",
            " flatten (Flatten)           (None, 2048)              0         \n",
            "                                                                 \n",
            " dense (Dense)               (None, 256)               524544    \n",
            "                                                                 \n",
            " dense_1 (Dense)             (None, 256)               65792     \n",
            "                                                                 \n",
            " dense_2 (Dense)             (None, 10)                2570      \n",
            "                                                                 \n",
            "=================================================================\n",
            "Total params: 24,180,618\n",
            "Trainable params: 592,906\n",
            "Non-trainable params: 23,587,712\n",
            "_________________________________________________________________\n"
          ]
        }
      ],
      "source": [
        "model1 = ResNet_mod(n_fclayers=2, n_neurons=[256, 256], activation='relu', learning_rate=0.001, \n",
        "                 epochs=200)\n",
        "model1.make_model()\n",
        "model1.summary()"
      ]
    },
    {
      "cell_type": "code",
      "execution_count": null,
      "metadata": {
        "colab": {
          "base_uri": "https://localhost:8080/"
        },
        "id": "5m9PWZbElXXl",
        "outputId": "f874e9dc-b9af-41f7-929c-6955d488555f"
      },
      "outputs": [
        {
          "name": "stdout",
          "output_type": "stream",
          "text": [
            "Epoch 1/200\n",
            "1563/1563 [==============================] - 295s 186ms/step - loss: 1.7429 - accuracy: 0.3742 - val_loss: 1.6335 - val_accuracy: 0.4144\n",
            "Epoch 2/200\n",
            "1563/1563 [==============================] - 323s 207ms/step - loss: 1.6012 - accuracy: 0.4285 - val_loss: 1.5807 - val_accuracy: 0.4390\n",
            "Epoch 3/200\n",
            "1563/1563 [==============================] - 322s 206ms/step - loss: 1.5416 - accuracy: 0.4535 - val_loss: 1.5375 - val_accuracy: 0.4584\n",
            "Epoch 4/200\n",
            "1563/1563 [==============================] - 320s 205ms/step - loss: 1.5055 - accuracy: 0.4649 - val_loss: 1.6076 - val_accuracy: 0.4284\n",
            "Epoch 5/200\n",
            "1563/1563 [==============================] - 326s 209ms/step - loss: 1.4760 - accuracy: 0.4784 - val_loss: 1.5124 - val_accuracy: 0.4577\n",
            "Epoch 6/200\n",
            "1563/1563 [==============================] - 277s 177ms/step - loss: 1.4502 - accuracy: 0.4846 - val_loss: 1.5075 - val_accuracy: 0.4715\n",
            "Epoch 7/200\n",
            "1563/1563 [==============================] - 282s 181ms/step - loss: 1.4182 - accuracy: 0.5000 - val_loss: 1.5421 - val_accuracy: 0.4585\n",
            "Epoch 8/200\n",
            "1563/1563 [==============================] - 322s 206ms/step - loss: 1.3959 - accuracy: 0.5072 - val_loss: 1.5222 - val_accuracy: 0.4682\n",
            "Epoch 9/200\n",
            "1563/1563 [==============================] - 319s 204ms/step - loss: 1.3672 - accuracy: 0.5167 - val_loss: 1.5136 - val_accuracy: 0.4734\n",
            "Epoch 10/200\n",
            "1563/1563 [==============================] - 282s 180ms/step - loss: 1.3497 - accuracy: 0.5207 - val_loss: 1.5198 - val_accuracy: 0.4707\n",
            "Epoch 11/200\n",
            "1563/1563 [==============================] - 321s 205ms/step - loss: 1.3249 - accuracy: 0.5309 - val_loss: 1.5237 - val_accuracy: 0.4847\n",
            "Epoch 12/200\n",
            "1563/1563 [==============================] - 329s 211ms/step - loss: 1.3064 - accuracy: 0.5375 - val_loss: 1.5437 - val_accuracy: 0.4829\n",
            "Epoch 13/200\n",
            "1563/1563 [==============================] - 329s 211ms/step - loss: 1.2816 - accuracy: 0.5447 - val_loss: 1.5558 - val_accuracy: 0.4823\n",
            "Epoch 14/200\n",
            "1563/1563 [==============================] - 333s 213ms/step - loss: 1.2638 - accuracy: 0.5505 - val_loss: 1.5629 - val_accuracy: 0.4764\n",
            "Epoch 15/200\n",
            "1563/1563 [==============================] - 327s 209ms/step - loss: 1.2406 - accuracy: 0.5617 - val_loss: 1.5773 - val_accuracy: 0.4832\n",
            "Epoch 16/200\n",
            "1563/1563 [==============================] - 286s 183ms/step - loss: 1.2287 - accuracy: 0.5628 - val_loss: 1.5995 - val_accuracy: 0.4741\n",
            "Epoch 17/200\n",
            "1563/1563 [==============================] - 318s 204ms/step - loss: 1.2033 - accuracy: 0.5737 - val_loss: 1.6050 - val_accuracy: 0.4790\n",
            "Epoch 18/200\n",
            "1563/1563 [==============================] - 323s 207ms/step - loss: 1.1854 - accuracy: 0.5794 - val_loss: 1.6220 - val_accuracy: 0.4808\n",
            "Epoch 19/200\n",
            "1563/1563 [==============================] - 326s 209ms/step - loss: 1.1711 - accuracy: 0.5840 - val_loss: 1.6426 - val_accuracy: 0.4783\n",
            "Epoch 20/200\n",
            "1563/1563 [==============================] - 319s 204ms/step - loss: 1.1546 - accuracy: 0.5927 - val_loss: 1.6504 - val_accuracy: 0.4757\n",
            "Epoch 21/200\n",
            "1563/1563 [==============================] - 316s 202ms/step - loss: 1.1402 - accuracy: 0.5948 - val_loss: 1.6951 - val_accuracy: 0.4804\n"
          ]
        }
      ],
      "source": [
        "model1.train_new_layers(x_train, y_train, x_test, y_test)"
      ]
    },
    {
      "cell_type": "code",
      "execution_count": null,
      "metadata": {
        "colab": {
          "base_uri": "https://localhost:8080/",
          "height": 301
        },
        "id": "Vw6UA4qdlgNx",
        "outputId": "eb806724-7616-46f1-8dfa-9c6672c5add3"
      },
      "outputs": [
        {
          "name": "stdout",
          "output_type": "stream",
          "text": [
            "313/313 - 43s - loss: 1.5237 - accuracy: 0.4847 - 43s/epoch - 138ms/step\n"
          ]
        },
        {
          "data": {
            "image/png": "[encoded data removed]",
            "text/plain": [
              "<Figure size 432x288 with 1 Axes>"
            ]
          },
          "metadata": {},
          "output_type": "display_data"
        }
      ],
      "source": [
        "model1.evaluate(x_test, y_test)"
      ]
    },
    {
      "cell_type": "markdown",
      "metadata": {
        "id": "wH4p_N3Auora"
      },
      "source": [
        "The training and test accuracies are lower than the simple CNN model. We tried to fine-tune the whole model, but each epoch would take more than one hour to train, and fine-tuning requires a very low learning rate (1e-5 as recommended by Keras' tutorial) and more epochs, so our hardware could not handle training the whole model."
      ]
    },
    {
      "cell_type": "markdown",
      "metadata": {
        "id": "nCQRKi2oBq0J"
      },
      "source": [
        "## ResNet Model 2\n",
        "\n",
        "As a result of the poor performance above, here we will build a new model with upsampling, global average pooling, and wider fully-connected layers. In addition, we will use the built-in preprocessing function of ResNet50 to preprocess the data.\n",
        "\n",
        "Reference: https://www.kaggle.com/code/kutaykutlu/resnet50-transfer-learning-cifar-10-beginner"
      ]
    },
    {
      "cell_type": "code",
      "execution_count": null,
      "metadata": {
        "id": "aeymNWvgFaXa",
        "colab": {
          "base_uri": "https://localhost:8080/"
        },
        "outputId": "eb8b5e45-b5e3-4446-fcbc-d11351442d39"
      },
      "outputs": [
        {
          "output_type": "stream",
          "name": "stdout",
          "text": [
            "Downloading data from https://www.cs.toronto.edu/~kriz/cifar-10-python.tar.gz\n",
            "170498071/170498071 [==============================] - 3s 0us/step\n"
          ]
        }
      ],
      "source": [
        "(x_train, y_train), (x_test, y_test) = datasets.cifar10.load_data()\n",
        "x_train = x_train.astype('float32')\n",
        "x_train = keras.applications.resnet50.preprocess_input(x_train)\n",
        "x_test = x_test.astype('float32')\n",
        "x_test = keras.applications.resnet50.preprocess_input(x_test)"
      ]
    },
    {
      "cell_type": "code",
      "execution_count": null,
      "metadata": {
        "colab": {
          "base_uri": "https://localhost:8080/"
        },
        "id": "0vgUkA8aHTtC",
        "outputId": "0e79a96e-5a5f-4d13-f97d-01edf56dbe1e"
      },
      "outputs": [
        {
          "name": "stdout",
          "output_type": "stream",
          "text": [
            "Shape of training data:\n",
            "(50000, 32, 32, 3)\n",
            "(50000, 1) \n",
            "\n",
            "Shape of test data:\n",
            "(10000, 32, 32, 3)\n",
            "(10000, 1) \n",
            "\n",
            "An example of an instance:\n",
            "[[[ -40.939003   -54.779      -64.68     ]\n",
            "  [ -58.939003   -70.779      -80.68     ]\n",
            "  [ -60.939003   -68.779      -73.68     ]\n",
            "  ...\n",
            "  [   4.060997    15.221001    34.32     ]\n",
            "  [  -1.939003     8.221001    28.32     ]\n",
            "  [  -0.939003     7.2210007   24.32     ]]\n",
            "\n",
            " [[ -83.939      -96.779     -107.68     ]\n",
            "  [-103.939     -116.779     -123.68     ]\n",
            "  [-103.939     -108.779     -105.68     ]\n",
            "  ...\n",
            "  [ -48.939003   -28.779       -0.6800003]\n",
            "  [ -53.939003   -33.779       -4.6800003]\n",
            "  [ -46.939003   -29.779       -1.6800003]]\n",
            "\n",
            " [[ -82.939      -92.779      -98.68     ]\n",
            "  [-103.939     -109.779     -107.68     ]\n",
            "  [ -95.939      -89.779      -74.68     ]\n",
            "  ...\n",
            "  [ -53.939003   -32.779       -5.6800003]\n",
            "  [ -53.939003   -32.779       -3.6800003]\n",
            "  [ -61.939003   -43.779      -14.68     ]]\n",
            "\n",
            " ...\n",
            "\n",
            " [[  -7.939003    53.221       84.32     ]\n",
            "  [ -69.939       36.221       77.32     ]\n",
            "  [ -77.939       44.221       74.32     ]\n",
            "  ...\n",
            "  [ -33.939003    16.221       36.32     ]\n",
            "  [ -96.939      -85.779      -67.68     ]\n",
            "  [ -83.939      -82.779      -70.68     ]]\n",
            "\n",
            " [[  -7.939003    22.221       56.32     ]\n",
            "  [ -61.939003     6.2210007   49.32     ]\n",
            "  [ -73.939       27.221       62.32     ]\n",
            "  ...\n",
            "  [  -9.939003    31.221       60.32     ]\n",
            "  [ -69.939      -54.779      -26.68     ]\n",
            "  [ -69.939      -63.779      -40.68     ]]\n",
            "\n",
            " [[  12.060997    27.221       53.32     ]\n",
            "  [  -9.939003    12.221001    44.32     ]\n",
            "  [ -16.939003    25.221       55.32     ]\n",
            "  ...\n",
            "  [  36.060997    67.221       92.32     ]\n",
            "  [ -19.939003     1.2210007   27.32     ]\n",
            "  [ -31.939003   -24.779       -0.6800003]]]\n",
            "shape: (32, 32, 3) \n",
            "\n",
            "An example of a label:\n",
            "[6]\n"
          ]
        }
      ],
      "source": [
        "# take a look at the data\n",
        "print(\"Shape of training data:\")\n",
        "print(x_train.shape)\n",
        "print(y_train.shape, \"\\n\")\n",
        "print(\"Shape of test data:\")\n",
        "print(x_test.shape)\n",
        "print(y_test.shape, \"\\n\")\n",
        "print(\"An example of an instance:\")\n",
        "print(x_train[0])\n",
        "print(f'shape: {x_train[0].shape} \\n')\n",
        "print(\"An example of a label:\")\n",
        "print(y_train[0])"
      ]
    },
    {
      "cell_type": "code",
      "execution_count": null,
      "metadata": {
        "id": "mR43mFg4CyEz"
      },
      "outputs": [],
      "source": [
        "class ResNet_mod2:\n",
        "\n",
        "    def __init__(self, n_fclayers=2, n_neurons=[1024, 512], activation='relu', \n",
        "                 learning_rate=0.001, epochs=200, batch_size=64, patience=10): \n",
        "                 # n_fclayers does not include the output layer\n",
        "        self.n_fclayers = n_fclayers\n",
        "        self.n_neurons = n_neurons\n",
        "        self.activation = activation\n",
        "        self.learning_rate = learning_rate\n",
        "        self.epochs = epochs\n",
        "        self.batch_size = 64\n",
        "        self.patience = patience\n",
        "\n",
        "    def make_model(self):\n",
        "        self.base_model = keras.applications.ResNet50(\n",
        "            weights='imagenet',  # Load weights pre-trained on ImageNet.\n",
        "            input_shape=(224, 224, 3), # shape of CIFAR10 data\n",
        "            include_top=False)  # Do not include the ImageNet classifier at the top\n",
        "                                # this is the fully connected layer of ResNet\n",
        "        \n",
        "        self.base_model.trainable = False\n",
        "\n",
        "        # create a new model on top of the base model\n",
        "        \n",
        "        inputs = keras.layers.Input(shape=(32,32,3))\n",
        "\n",
        "        # upsampling\n",
        "        resize = keras.layers.UpSampling2D(size=(7,7))(inputs)\n",
        "        x = self.base_model(resize, training=False)\n",
        "        x = tf.keras.layers.GlobalAveragePooling2D()(x)\n",
        "        x = tf.keras.layers.Flatten()(x)\n",
        "\n",
        "        for i in range(self.n_fclayers):\n",
        "            x = keras.layers.Dense(self.n_neurons[i], activation=self.activation)(x)\n",
        "\n",
        "        outputs = tf.keras.layers.Dense(10, activation=\"softmax\", name=\"classification\")(x)\n",
        "\n",
        "        model = keras.Model(inputs, outputs)\n",
        "\n",
        "        model.compile(optimizer=tf.keras.optimizers.Adam(learning_rate=self.learning_rate),\n",
        "                  loss=tf.keras.losses.SparseCategoricalCrossentropy(from_logits=True),\n",
        "                  metrics=['accuracy'])\n",
        "        \n",
        "        self.model = model\n",
        "\n",
        "    def summary(self):\n",
        "        self.model.summary()\n",
        "    \n",
        "    def train_new_layers(self, x_train, y_train, x_test, y_test):\n",
        "\n",
        "        earlystopping = callbacks.EarlyStopping(monitor=\"val_accuracy\",\n",
        "                                        mode=\"auto\", patience=self.patience,\n",
        "                                        restore_best_weights=True)\n",
        "\n",
        "        self.history = self.model.fit(x_train, y_train, epochs=self.epochs, \n",
        "                                 validation_data=(x_test, y_test),\n",
        "                                 callbacks=[earlystopping], batch_size=self.batch_size)\n",
        "        \n",
        "    def train_whole_model(self, x_train, y_train, x_test, y_test):\n",
        "        # unfreeze all parts and train with a very low learning rate\n",
        "        self.base_model.trainable = True\n",
        "\n",
        "        # recompile the model\n",
        "        self.model.compile(optimizer=keras.optimizers.Adam(1e-5),  # Very low learning rate\n",
        "              loss=tf.keras.losses.SparseCategoricalCrossentropy(from_logits=True),\n",
        "              metrics=['accuracy'])\n",
        "        \n",
        "        earlystopping = callbacks.EarlyStopping(monitor=\"val_accuracy\",\n",
        "                                        mode=\"auto\", patience=10,\n",
        "                                        restore_best_weights=True)\n",
        "\n",
        "        self.history = self.model.fit(x_train, y_train, epochs=self.epochs, \n",
        "                                 validation_data=(x_test, y_test),\n",
        "                                 callbacks=[earlystopping], batch_size=self.batch_size)\n",
        "    \n",
        "    def evaluate(self, x_test, y_test):\n",
        "        plt.plot(self.history.history['accuracy'], label='training accuracy')\n",
        "        plt.plot(self.history.history['val_accuracy'], label = 'test accuracy')\n",
        "        plt.xlabel('Epoch')\n",
        "        plt.ylabel('Accuracy')\n",
        "        plt.ylim([0, 1])\n",
        "        plt.legend(loc='lower right')\n",
        "\n",
        "        test_loss, test_acc = self.model.evaluate(x_test,  y_test, verbose=2)"
      ]
    },
    {
      "cell_type": "markdown",
      "source": [
        "Let's first experiment with the two dense layers having 512 and 256 units each."
      ],
      "metadata": {
        "id": "-X9p2uswm3hU"
      }
    },
    {
      "cell_type": "code",
      "execution_count": null,
      "metadata": {
        "colab": {
          "base_uri": "https://localhost:8080/"
        },
        "id": "h1hXRDfLqgnv",
        "outputId": "970ae8b7-095a-405a-95a5-de49d004dd16"
      },
      "outputs": [
        {
          "output_type": "stream",
          "name": "stdout",
          "text": [
            "Model: \"model_1\"\n",
            "_________________________________________________________________\n",
            " Layer (type)                Output Shape              Param #   \n",
            "=================================================================\n",
            " input_4 (InputLayer)        [(None, 32, 32, 3)]       0         \n",
            "                                                                 \n",
            " up_sampling2d_1 (UpSampling  (None, 224, 224, 3)      0         \n",
            " 2D)                                                             \n",
            "                                                                 \n",
            " resnet50 (Functional)       (None, 7, 7, 2048)        23587712  \n",
            "                                                                 \n",
            " global_average_pooling2d_1   (None, 2048)             0         \n",
            " (GlobalAveragePooling2D)                                        \n",
            "                                                                 \n",
            " flatten_1 (Flatten)         (None, 2048)              0         \n",
            "                                                                 \n",
            " dense_2 (Dense)             (None, 512)               1049088   \n",
            "                                                                 \n",
            " dense_3 (Dense)             (None, 256)               131328    \n",
            "                                                                 \n",
            " classification (Dense)      (None, 10)                2570      \n",
            "                                                                 \n",
            "=================================================================\n",
            "Total params: 24,770,698\n",
            "Trainable params: 1,182,986\n",
            "Non-trainable params: 23,587,712\n",
            "_________________________________________________________________\n"
          ]
        }
      ],
      "source": [
        "model2 = ResNet_mod2(n_neurons=[512, 256], epochs=50)\n",
        "model2.make_model()\n",
        "model2.summary()"
      ]
    },
    {
      "cell_type": "code",
      "execution_count": null,
      "metadata": {
        "colab": {
          "base_uri": "https://localhost:8080/"
        },
        "id": "b8lBvO6xqgnv",
        "outputId": "68fcb653-69bf-4b07-f6f5-ab739cd2f498"
      },
      "outputs": [
        {
          "output_type": "stream",
          "name": "stdout",
          "text": [
            "Epoch 1/50\n",
            "782/782 [==============================] - 196s 245ms/step - loss: 0.7002 - accuracy: 0.7538 - val_loss: 0.5757 - val_accuracy: 0.8006\n",
            "Epoch 2/50\n",
            "782/782 [==============================] - 193s 247ms/step - loss: 0.5151 - accuracy: 0.8207 - val_loss: 0.5658 - val_accuracy: 0.8061\n",
            "Epoch 3/50\n",
            "782/782 [==============================] - 182s 232ms/step - loss: 0.4414 - accuracy: 0.8443 - val_loss: 0.5346 - val_accuracy: 0.8130\n",
            "Epoch 4/50\n",
            "782/782 [==============================] - 192s 246ms/step - loss: 0.3909 - accuracy: 0.8609 - val_loss: 0.5167 - val_accuracy: 0.8241\n",
            "Epoch 5/50\n",
            "782/782 [==============================] - 193s 246ms/step - loss: 0.3469 - accuracy: 0.8764 - val_loss: 0.4907 - val_accuracy: 0.8372\n",
            "Epoch 6/50\n",
            "782/782 [==============================] - 193s 246ms/step - loss: 0.3138 - accuracy: 0.8884 - val_loss: 0.5200 - val_accuracy: 0.8311\n",
            "Epoch 7/50\n",
            "782/782 [==============================] - 192s 246ms/step - loss: 0.2806 - accuracy: 0.8980 - val_loss: 0.5581 - val_accuracy: 0.8323\n",
            "Epoch 8/50\n",
            "782/782 [==============================] - 192s 246ms/step - loss: 0.2462 - accuracy: 0.9125 - val_loss: 0.5573 - val_accuracy: 0.8349\n",
            "Epoch 9/50\n",
            "782/782 [==============================] - 192s 246ms/step - loss: 0.2188 - accuracy: 0.9205 - val_loss: 0.5756 - val_accuracy: 0.8368\n",
            "Epoch 10/50\n",
            "782/782 [==============================] - 193s 247ms/step - loss: 0.1963 - accuracy: 0.9291 - val_loss: 0.6029 - val_accuracy: 0.8328\n",
            "Epoch 11/50\n",
            "782/782 [==============================] - 192s 246ms/step - loss: 0.1704 - accuracy: 0.9387 - val_loss: 0.6252 - val_accuracy: 0.8335\n",
            "Epoch 12/50\n",
            "782/782 [==============================] - 192s 246ms/step - loss: 0.1532 - accuracy: 0.9436 - val_loss: 0.6868 - val_accuracy: 0.8312\n",
            "Epoch 13/50\n",
            "782/782 [==============================] - 192s 246ms/step - loss: 0.1358 - accuracy: 0.9512 - val_loss: 0.7281 - val_accuracy: 0.8288\n",
            "Epoch 14/50\n",
            "782/782 [==============================] - 192s 246ms/step - loss: 0.1227 - accuracy: 0.9550 - val_loss: 0.7486 - val_accuracy: 0.8320\n",
            "Epoch 15/50\n",
            "782/782 [==============================] - 181s 232ms/step - loss: 0.1064 - accuracy: 0.9612 - val_loss: 0.7688 - val_accuracy: 0.8329\n"
          ]
        }
      ],
      "source": [
        "model2.train_new_layers(x_train, y_train, x_test, y_test)"
      ]
    },
    {
      "cell_type": "code",
      "execution_count": null,
      "metadata": {
        "id": "CoUHckFPqgnv",
        "colab": {
          "base_uri": "https://localhost:8080/",
          "height": 301
        },
        "outputId": "8e6d0421-c068-4c51-b205-20c1c32eb959"
      },
      "outputs": [
        {
          "output_type": "stream",
          "name": "stdout",
          "text": [
            "313/313 - 32s - loss: 0.4907 - accuracy: 0.8372 - 32s/epoch - 101ms/step\n"
          ]
        },
        {
          "output_type": "display_data",
          "data": {
            "text/plain": [
              "<Figure size 432x288 with 1 Axes>"
            ],
            "image/png": "[encoded data removed]"
          },
          "metadata": {
            "needs_background": "light"
          }
        }
      ],
      "source": [
        "model2.evaluate(x_test, y_test)"
      ]
    },
    {
      "cell_type": "markdown",
      "source": [
        "The test accuracy is 0.8372, a big improvement. Let's see if we can further improve it."
      ],
      "metadata": {
        "id": "bKHNXri4RFTs"
      }
    },
    {
      "cell_type": "code",
      "execution_count": null,
      "metadata": {
        "colab": {
          "base_uri": "https://localhost:8080/"
        },
        "outputId": "76fcad4d-c62a-4e29-bada-3787089aebc2",
        "id": "TWBmwgsgRdOV"
      },
      "outputs": [
        {
          "output_type": "stream",
          "name": "stdout",
          "text": [
            "Model: \"model_3\"\n",
            "_________________________________________________________________\n",
            " Layer (type)                Output Shape              Param #   \n",
            "=================================================================\n",
            " input_8 (InputLayer)        [(None, 32, 32, 3)]       0         \n",
            "                                                                 \n",
            " up_sampling2d_3 (UpSampling  (None, 224, 224, 3)      0         \n",
            " 2D)                                                             \n",
            "                                                                 \n",
            " resnet50 (Functional)       (None, 7, 7, 2048)        23587712  \n",
            "                                                                 \n",
            " global_average_pooling2d_3   (None, 2048)             0         \n",
            " (GlobalAveragePooling2D)                                        \n",
            "                                                                 \n",
            " flatten_3 (Flatten)         (None, 2048)              0         \n",
            "                                                                 \n",
            " dense_6 (Dense)             (None, 512)               1049088   \n",
            "                                                                 \n",
            " dense_7 (Dense)             (None, 512)               262656    \n",
            "                                                                 \n",
            " classification (Dense)      (None, 10)                5130      \n",
            "                                                                 \n",
            "=================================================================\n",
            "Total params: 24,904,586\n",
            "Trainable params: 1,316,874\n",
            "Non-trainable params: 23,587,712\n",
            "_________________________________________________________________\n"
          ]
        }
      ],
      "source": [
        "model3 = ResNet_mod2(n_neurons=[512, 512], epochs=50, patience=5)\n",
        "model3.make_model()\n",
        "model3.summary()"
      ]
    },
    {
      "cell_type": "code",
      "source": [
        "model3.train_new_layers(x_train, y_train, x_test, y_test)"
      ],
      "metadata": {
        "colab": {
          "base_uri": "https://localhost:8080/"
        },
        "id": "iTJBIiRyRiOb",
        "outputId": "97e37e6e-d99c-4dc8-8f76-99c5defeaae8"
      },
      "execution_count": null,
      "outputs": [
        {
          "output_type": "stream",
          "name": "stdout",
          "text": [
            "Epoch 1/50\n",
            "782/782 [==============================] - 195s 245ms/step - loss: 0.6978 - accuracy: 0.7556 - val_loss: 0.5706 - val_accuracy: 0.8008\n",
            "Epoch 2/50\n",
            "782/782 [==============================] - 181s 232ms/step - loss: 0.5153 - accuracy: 0.8206 - val_loss: 0.5929 - val_accuracy: 0.8017\n",
            "Epoch 3/50\n",
            "782/782 [==============================] - 181s 232ms/step - loss: 0.4462 - accuracy: 0.8436 - val_loss: 0.5189 - val_accuracy: 0.8172\n",
            "Epoch 4/50\n",
            "782/782 [==============================] - 192s 246ms/step - loss: 0.3910 - accuracy: 0.8611 - val_loss: 0.5246 - val_accuracy: 0.8233\n",
            "Epoch 5/50\n",
            "782/782 [==============================] - 181s 231ms/step - loss: 0.3511 - accuracy: 0.8752 - val_loss: 0.5034 - val_accuracy: 0.8321\n",
            "Epoch 6/50\n",
            "782/782 [==============================] - 181s 231ms/step - loss: 0.3192 - accuracy: 0.8849 - val_loss: 0.5055 - val_accuracy: 0.8318\n",
            "Epoch 7/50\n",
            "782/782 [==============================] - 192s 246ms/step - loss: 0.2789 - accuracy: 0.9001 - val_loss: 0.5544 - val_accuracy: 0.8307\n",
            "Epoch 8/50\n",
            "782/782 [==============================] - 192s 246ms/step - loss: 0.2520 - accuracy: 0.9094 - val_loss: 0.5361 - val_accuracy: 0.8375\n",
            "Epoch 9/50\n",
            "782/782 [==============================] - 192s 246ms/step - loss: 0.2154 - accuracy: 0.9231 - val_loss: 0.6042 - val_accuracy: 0.8237\n",
            "Epoch 10/50\n",
            "782/782 [==============================] - 181s 231ms/step - loss: 0.1997 - accuracy: 0.9285 - val_loss: 0.6090 - val_accuracy: 0.8361\n",
            "Epoch 11/50\n",
            "782/782 [==============================] - 181s 231ms/step - loss: 0.1712 - accuracy: 0.9375 - val_loss: 0.6980 - val_accuracy: 0.8151\n",
            "Epoch 12/50\n",
            "782/782 [==============================] - 191s 245ms/step - loss: 0.1570 - accuracy: 0.9419 - val_loss: 0.7000 - val_accuracy: 0.8354\n",
            "Epoch 13/50\n",
            "782/782 [==============================] - 192s 246ms/step - loss: 0.1382 - accuracy: 0.9494 - val_loss: 0.7260 - val_accuracy: 0.8302\n"
          ]
        }
      ]
    },
    {
      "cell_type": "code",
      "source": [
        "model3.evaluate(x_test, y_test)"
      ],
      "metadata": {
        "colab": {
          "base_uri": "https://localhost:8080/",
          "height": 301
        },
        "id": "pRm8Jv-mRqBG",
        "outputId": "6bc14d38-49f6-4858-b4bb-c1a457710725"
      },
      "execution_count": null,
      "outputs": [
        {
          "output_type": "stream",
          "name": "stdout",
          "text": [
            "313/313 - 31s - loss: 0.5361 - accuracy: 0.8375 - 31s/epoch - 99ms/step\n"
          ]
        },
        {
          "output_type": "display_data",
          "data": {
            "text/plain": [
              "<Figure size 432x288 with 1 Axes>"
            ],
            "image/png": "[encoded data removed]"
          },
          "metadata": {
            "needs_background": "light"
          }
        }
      ]
    },
    {
      "cell_type": "markdown",
      "source": [
        "The result is similar to the previous model's. Let's try an even wider dense layer. "
      ],
      "metadata": {
        "id": "P4g0baLynDqI"
      }
    },
    {
      "cell_type": "code",
      "execution_count": null,
      "metadata": {
        "colab": {
          "base_uri": "https://localhost:8080/"
        },
        "outputId": "98a36f41-5b06-4d14-a19b-713a8de4a80a",
        "id": "xr3gnkMecGG_"
      },
      "outputs": [
        {
          "output_type": "stream",
          "name": "stdout",
          "text": [
            "Model: \"model_4\"\n",
            "_________________________________________________________________\n",
            " Layer (type)                Output Shape              Param #   \n",
            "=================================================================\n",
            " input_10 (InputLayer)       [(None, 32, 32, 3)]       0         \n",
            "                                                                 \n",
            " up_sampling2d_4 (UpSampling  (None, 224, 224, 3)      0         \n",
            " 2D)                                                             \n",
            "                                                                 \n",
            " resnet50 (Functional)       (None, 7, 7, 2048)        23587712  \n",
            "                                                                 \n",
            " global_average_pooling2d_4   (None, 2048)             0         \n",
            " (GlobalAveragePooling2D)                                        \n",
            "                                                                 \n",
            " flatten_4 (Flatten)         (None, 2048)              0         \n",
            "                                                                 \n",
            " dense_8 (Dense)             (None, 1024)              2098176   \n",
            "                                                                 \n",
            " dense_9 (Dense)             (None, 512)               524800    \n",
            "                                                                 \n",
            " classification (Dense)      (None, 10)                5130      \n",
            "                                                                 \n",
            "=================================================================\n",
            "Total params: 26,215,818\n",
            "Trainable params: 2,628,106\n",
            "Non-trainable params: 23,587,712\n",
            "_________________________________________________________________\n"
          ]
        }
      ],
      "source": [
        "model4 = ResNet_mod2(n_neurons=[1024, 512], epochs=50, patience=5)\n",
        "model4.make_model()\n",
        "model4.summary()"
      ]
    },
    {
      "cell_type": "code",
      "source": [
        "model4.train_new_layers(x_train, y_train, x_test, y_test)"
      ],
      "metadata": {
        "colab": {
          "base_uri": "https://localhost:8080/"
        },
        "outputId": "bf04d740-44d3-482e-c00c-ca9c280327cd",
        "id": "UdW64Rt0cGHK"
      },
      "execution_count": null,
      "outputs": [
        {
          "output_type": "stream",
          "name": "stdout",
          "text": [
            "Epoch 1/50\n",
            "782/782 [==============================] - 180s 225ms/step - loss: 0.7185 - accuracy: 0.7508 - val_loss: 0.5814 - val_accuracy: 0.7987\n",
            "Epoch 2/50\n",
            "782/782 [==============================] - 192s 245ms/step - loss: 0.5149 - accuracy: 0.8207 - val_loss: 0.5795 - val_accuracy: 0.8058\n",
            "Epoch 3/50\n",
            "782/782 [==============================] - 181s 232ms/step - loss: 0.4430 - accuracy: 0.8444 - val_loss: 0.5015 - val_accuracy: 0.8260\n",
            "Epoch 4/50\n",
            "782/782 [==============================] - 192s 245ms/step - loss: 0.3895 - accuracy: 0.8614 - val_loss: 0.5240 - val_accuracy: 0.8221\n",
            "Epoch 5/50\n",
            "782/782 [==============================] - 193s 246ms/step - loss: 0.3462 - accuracy: 0.8772 - val_loss: 0.5317 - val_accuracy: 0.8272\n",
            "Epoch 6/50\n",
            "782/782 [==============================] - 192s 246ms/step - loss: 0.3140 - accuracy: 0.8877 - val_loss: 0.4954 - val_accuracy: 0.8357\n",
            "Epoch 7/50\n",
            "782/782 [==============================] - 192s 246ms/step - loss: 0.2746 - accuracy: 0.9018 - val_loss: 0.5227 - val_accuracy: 0.8384\n",
            "Epoch 8/50\n",
            "782/782 [==============================] - 192s 246ms/step - loss: 0.2402 - accuracy: 0.9140 - val_loss: 0.5489 - val_accuracy: 0.8370\n",
            "Epoch 9/50\n",
            "782/782 [==============================] - 192s 246ms/step - loss: 0.2099 - accuracy: 0.9229 - val_loss: 0.6058 - val_accuracy: 0.8289\n",
            "Epoch 10/50\n",
            "782/782 [==============================] - 192s 246ms/step - loss: 0.1913 - accuracy: 0.9309 - val_loss: 0.6252 - val_accuracy: 0.8309\n",
            "Epoch 11/50\n",
            "782/782 [==============================] - 192s 246ms/step - loss: 0.1700 - accuracy: 0.9383 - val_loss: 0.6838 - val_accuracy: 0.8286\n",
            "Epoch 12/50\n",
            "782/782 [==============================] - 193s 246ms/step - loss: 0.1454 - accuracy: 0.9470 - val_loss: 0.7513 - val_accuracy: 0.8260\n"
          ]
        }
      ]
    },
    {
      "cell_type": "code",
      "source": [
        "model4.evaluate(x_test, y_test)"
      ],
      "metadata": {
        "colab": {
          "base_uri": "https://localhost:8080/",
          "height": 301
        },
        "outputId": "e02149e5-2ec6-4f25-ecd9-f25c09ad3a84",
        "id": "3qA5ecQWcGHK"
      },
      "execution_count": null,
      "outputs": [
        {
          "output_type": "stream",
          "name": "stdout",
          "text": [
            "313/313 - 27s - loss: 0.5227 - accuracy: 0.8384 - 27s/epoch - 87ms/step\n"
          ]
        },
        {
          "output_type": "display_data",
          "data": {
            "text/plain": [
              "<Figure size 432x288 with 1 Axes>"
            ],
            "image/png": "[encoded data removed]"
          },
          "metadata": {
            "needs_background": "light"
          }
        }
      ]
    },
    {
      "cell_type": "markdown",
      "source": [
        "The performance improved slightly, achieveing 83.84% test accuracy."
      ],
      "metadata": {
        "id": "9kFhuxmFnMXI"
      }
    }
  ],
  "metadata": {
    "accelerator": "GPU",
    "colab": {
      "provenance": []
    },
    "gpuClass": "standard",
    "kernelspec": {
      "display_name": "Python 3",
      "name": "python3"
    },
    "language_info": {
      "name": "python"
    }
  },
  "nbformat": 4,
  "nbformat_minor": 0
}